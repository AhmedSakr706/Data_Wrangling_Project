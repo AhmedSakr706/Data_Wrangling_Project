{
 "cells": [
  {
   "cell_type": "markdown",
   "metadata": {
    "id": "GNIwe5N7s0e_"
   },
   "source": [
    "# Data analysis for WeRateDogs"
   ]
  },
  {
   "cell_type": "markdown",
   "metadata": {},
   "source": [
    "# table of contents"
   ]
  },
  {
   "cell_type": "markdown",
   "metadata": {
    "id": "_BG63Tpg8ep_"
   },
   "source": [
    "Table of Contents\n",
    "I. Introduction\n",
    "II. Data Collection\n",
    "III. Data Assessment\n",
    "IV. Data Cleaning\n",
    "V. Data Analysis & Visualization"
   ]
  },
  {
   "cell_type": "markdown",
   "metadata": {},
   "source": [
    "# introduction"
   ]
  },
  {
   "cell_type": "markdown",
   "metadata": {},
   "source": [
    "This project is designed to enhance data wrangling skills using real-world data. The data wrangling process comprises three stages: gathering, assessing, and cleaning. The dataset selected for this project is the tweet archive of the Twitter user @dog_rates, also recognized as WeRateDogs. WeRateDogs is a Twitter account that provides humorous ratings for people's dogs along with amusing comments about each dog. Initially, I will collect data in various formats from diverse sources. Subsequently, I will evaluate the data using both visual and programmatic methods to identify any issues related to data quality and tidiness. Following this assessment, I will conduct programmatic cleaning to rectify all identified issues. Finally, I will analyze the cleaned dataset and present the results visually."
   ]
  },
  {
   "cell_type": "markdown",
   "metadata": {},
   "source": [
    "# gathering data"
   ]
  },
  {
   "cell_type": "code",
   "execution_count": 4,
   "metadata": {
    "id": "Su8E0uLuYkHU"
   },
   "outputs": [],
   "source": [
    "#FILL IN 1st data gathering and loading method\n",
    "import pandas as pd\n",
    "import numpy as np\n",
    "import requests\n",
    "import json\n",
    "import matplotlib.pyplot as plt\n",
    "%matplotlib inline"
   ]
  },
  {
   "cell_type": "markdown",
   "metadata": {},
   "source": [
    "# Loading data project"
   ]
  },
  {
   "cell_type": "code",
   "execution_count": 8,
   "metadata": {
    "id": "6zT0QxRyYmm7"
   },
   "outputs": [
    {
     "name": "stdout",
     "output_type": "stream",
     "text": [
      "      Unnamed: 0            tweet_id            timestamp              source  \\\n",
      "0              0  667470559035432960  2015-11-19 22:32:36  Twitter Web Client   \n",
      "1              1  667491009379606528  2015-11-19 23:53:52  Twitter Web Client   \n",
      "2              2  667495797102141441  2015-11-20 00:12:54  Twitter Web Client   \n",
      "3              3  667502640335572993  2015-11-20 00:40:05  Twitter Web Client   \n",
      "4              4  667509364010450944  2015-11-20 01:06:48  Twitter Web Client   \n",
      "...          ...                 ...                  ...                 ...   \n",
      "1653        1779  878776093423087618  2017-06-25 00:45:22  Twitter for iPhone   \n",
      "1654        1780  867421006826221569  2017-05-24 16:44:18  Twitter for iPhone   \n",
      "1655        1781  859607811541651456  2017-05-03 03:17:27  Twitter for iPhone   \n",
      "1656        1782  825026590719483904  2017-01-27 17:04:02  Twitter for iPhone   \n",
      "1657        1783  803773340896923648  2016-11-30 01:31:12  Twitter for iPhone   \n",
      "\n",
      "                                                   text  \\\n",
      "0     This is a northern Wahoo named Kohl. He runs t...   \n",
      "1     Two dogs in this one. Both are rare Jujitsu Py...   \n",
      "2     This is Philippe from Soviet Russia. Commandin...   \n",
      "3     Say hello to Hall and Oates. Oates is winking ...   \n",
      "4     This a Norwegian Pewterschmidt named Tickles. ...   \n",
      "...                                                 ...   \n",
      "1653  This is Snoopy. He's a proud #PrideMonthPuppo....   \n",
      "1654  This is Shikha. She just watched you drop a sk...   \n",
      "1655  Sorry for the lack of posts today. I came home...   \n",
      "1656  Say hello to Pablo. He's one gorgeous puppo. A...   \n",
      "1657  This is Diogi. He fell in the pool as soon as ...   \n",
      "\n",
      "                                          expanded_urls  rating_numerator  \\\n",
      "0     https://twitter.com/dog_rates/status/667470559...              11.0   \n",
      "1     https://twitter.com/dog_rates/status/667491009...               7.0   \n",
      "2     https://twitter.com/dog_rates/status/667495797...               9.0   \n",
      "3     https://twitter.com/dog_rates/status/667502640...              11.0   \n",
      "4     https://twitter.com/dog_rates/status/667509364...              12.0   \n",
      "...                                                 ...               ...   \n",
      "1653  https://twitter.com/dog_rates/status/878776093...              13.0   \n",
      "1654  https://twitter.com/dog_rates/status/867421006...              12.0   \n",
      "1655  https://twitter.com/dog_rates/status/859607811...              13.0   \n",
      "1656  https://www.gofundme.com/my-puppys-double-cata...              12.0   \n",
      "1657  https://twitter.com/dog_rates/status/803773340...              12.0   \n",
      "\n",
      "      rating_denominator      name dog_stage  retweet_count  favorite_count  \\\n",
      "0                     10         a      None            102             273   \n",
      "1                     10      None      None            242             559   \n",
      "2                     10  Philippe      None            294             565   \n",
      "3                     10      Hall      None            231             563   \n",
      "4                     10      None      None           2272            7148   \n",
      "...                  ...       ...       ...            ...             ...   \n",
      "1653                  10    Snoopy     puppo           4319           19763   \n",
      "1654                  10    Shikha     puppo           2697           16755   \n",
      "1655                  10      None     puppo           1704           19476   \n",
      "1656                  10     Pablo     puppo           1483            7020   \n",
      "1657                  10     Diogi     puppo           3220           11203   \n",
      "\n",
      "                                              jpg_url               breed  \\\n",
      "0     https://pbs.twimg.com/media/CUNU78YWEAECmpB.jpg          Toy_poodle   \n",
      "1     https://pbs.twimg.com/media/CUNniSlUYAEj1Jl.jpg              Borzoi   \n",
      "2     https://pbs.twimg.com/media/CUNr4-7UwAAg2lq.jpg           Chihuahua   \n",
      "3     https://pbs.twimg.com/media/CUNyHTMUYAAQVch.jpg  Labrador_retriever   \n",
      "4     https://pbs.twimg.com/media/CUN4Or5UAAAa5K4.jpg              Beagle   \n",
      "...                                               ...                 ...   \n",
      "1653  https://pbs.twimg.com/media/DDIKMXzW0AEibje.jpg   Italian_greyhound   \n",
      "1654  https://pbs.twimg.com/media/DAmyy8FXYAIH8Ty.jpg          Eskimo_dog   \n",
      "1655  https://pbs.twimg.com/media/C-3wvtxXcAUTuBE.jpg    Golden_retriever   \n",
      "1656  https://pbs.twimg.com/media/C3MVTeHWcAAGNfx.jpg          Eskimo_dog   \n",
      "1657  https://pbs.twimg.com/media/CyeTku-XcAALkBd.jpg  Miniature_pinscher   \n",
      "\n",
      "      confident_level  \n",
      "0            0.304175  \n",
      "1            0.852088  \n",
      "2            0.143957  \n",
      "3            0.996709  \n",
      "4            0.636169  \n",
      "...               ...  \n",
      "1653         0.734684  \n",
      "1654         0.616457  \n",
      "1655         0.895529  \n",
      "1656         0.524454  \n",
      "1657         0.817066  \n",
      "\n",
      "[1658 rows x 15 columns]\n"
     ]
    }
   ],
   "source": [
    "# Read CSV file\n",
    "twitter_archive = pd.read_csv('twitter_archive_master.csv')\n",
    "print(twitter_archive)"
   ]
  },
  {
   "cell_type": "markdown",
   "metadata": {},
   "source": [
    "Optional data storing step: You may save your raw dataset files to the local data store before moving to the next step."
   ]
  },
  {
   "cell_type": "markdown",
   "metadata": {},
   "source": [
    "# Predict of twitter image"
   ]
  },
  {
   "cell_type": "code",
   "execution_count": 7,
   "metadata": {},
   "outputs": [
    {
     "data": {
      "text/plain": [
       "<Response [200]>"
      ]
     },
     "execution_count": 7,
     "metadata": {},
     "output_type": "execute_result"
    }
   ],
   "source": [
    "# Download file using Requests library via URL provided \n",
    "url = 'https://d17h27t6h515a5.cloudfront.net/topher/2017/August/599fd2ad_image-predictions/image-predictions.tsv'\n",
    "response = requests.get(url)\n",
    "response"
   ]
  },
  {
   "cell_type": "code",
   "execution_count": 9,
   "metadata": {},
   "outputs": [
    {
     "data": {
      "text/html": [
       "<div>\n",
       "<style scoped>\n",
       "    .dataframe tbody tr th:only-of-type {\n",
       "        vertical-align: middle;\n",
       "    }\n",
       "\n",
       "    .dataframe tbody tr th {\n",
       "        vertical-align: top;\n",
       "    }\n",
       "\n",
       "    .dataframe thead th {\n",
       "        text-align: right;\n",
       "    }\n",
       "</style>\n",
       "<table border=\"1\" class=\"dataframe\">\n",
       "  <thead>\n",
       "    <tr style=\"text-align: right;\">\n",
       "      <th></th>\n",
       "      <th>tweet_id</th>\n",
       "      <th>jpg_url</th>\n",
       "      <th>img_num</th>\n",
       "      <th>p1</th>\n",
       "      <th>p1_conf</th>\n",
       "      <th>p1_dog</th>\n",
       "      <th>p2</th>\n",
       "      <th>p2_conf</th>\n",
       "      <th>p2_dog</th>\n",
       "      <th>p3</th>\n",
       "      <th>p3_conf</th>\n",
       "      <th>p3_dog</th>\n",
       "    </tr>\n",
       "  </thead>\n",
       "  <tbody>\n",
       "    <tr>\n",
       "      <th>0</th>\n",
       "      <td>666020888022790149</td>\n",
       "      <td>https://pbs.twimg.com/media/CT4udn0WwAA0aMy.jpg</td>\n",
       "      <td>1</td>\n",
       "      <td>Welsh_springer_spaniel</td>\n",
       "      <td>0.465074</td>\n",
       "      <td>True</td>\n",
       "      <td>collie</td>\n",
       "      <td>0.156665</td>\n",
       "      <td>True</td>\n",
       "      <td>Shetland_sheepdog</td>\n",
       "      <td>0.061428</td>\n",
       "      <td>True</td>\n",
       "    </tr>\n",
       "    <tr>\n",
       "      <th>1</th>\n",
       "      <td>666029285002620928</td>\n",
       "      <td>https://pbs.twimg.com/media/CT42GRgUYAA5iDo.jpg</td>\n",
       "      <td>1</td>\n",
       "      <td>redbone</td>\n",
       "      <td>0.506826</td>\n",
       "      <td>True</td>\n",
       "      <td>miniature_pinscher</td>\n",
       "      <td>0.074192</td>\n",
       "      <td>True</td>\n",
       "      <td>Rhodesian_ridgeback</td>\n",
       "      <td>0.072010</td>\n",
       "      <td>True</td>\n",
       "    </tr>\n",
       "    <tr>\n",
       "      <th>2</th>\n",
       "      <td>666033412701032449</td>\n",
       "      <td>https://pbs.twimg.com/media/CT4521TWwAEvMyu.jpg</td>\n",
       "      <td>1</td>\n",
       "      <td>German_shepherd</td>\n",
       "      <td>0.596461</td>\n",
       "      <td>True</td>\n",
       "      <td>malinois</td>\n",
       "      <td>0.138584</td>\n",
       "      <td>True</td>\n",
       "      <td>bloodhound</td>\n",
       "      <td>0.116197</td>\n",
       "      <td>True</td>\n",
       "    </tr>\n",
       "    <tr>\n",
       "      <th>3</th>\n",
       "      <td>666044226329800704</td>\n",
       "      <td>https://pbs.twimg.com/media/CT5Dr8HUEAA-lEu.jpg</td>\n",
       "      <td>1</td>\n",
       "      <td>Rhodesian_ridgeback</td>\n",
       "      <td>0.408143</td>\n",
       "      <td>True</td>\n",
       "      <td>redbone</td>\n",
       "      <td>0.360687</td>\n",
       "      <td>True</td>\n",
       "      <td>miniature_pinscher</td>\n",
       "      <td>0.222752</td>\n",
       "      <td>True</td>\n",
       "    </tr>\n",
       "    <tr>\n",
       "      <th>4</th>\n",
       "      <td>666049248165822465</td>\n",
       "      <td>https://pbs.twimg.com/media/CT5IQmsXIAAKY4A.jpg</td>\n",
       "      <td>1</td>\n",
       "      <td>miniature_pinscher</td>\n",
       "      <td>0.560311</td>\n",
       "      <td>True</td>\n",
       "      <td>Rottweiler</td>\n",
       "      <td>0.243682</td>\n",
       "      <td>True</td>\n",
       "      <td>Doberman</td>\n",
       "      <td>0.154629</td>\n",
       "      <td>True</td>\n",
       "    </tr>\n",
       "  </tbody>\n",
       "</table>\n",
       "</div>"
      ],
      "text/plain": [
       "             tweet_id                                          jpg_url  \\\n",
       "0  666020888022790149  https://pbs.twimg.com/media/CT4udn0WwAA0aMy.jpg   \n",
       "1  666029285002620928  https://pbs.twimg.com/media/CT42GRgUYAA5iDo.jpg   \n",
       "2  666033412701032449  https://pbs.twimg.com/media/CT4521TWwAEvMyu.jpg   \n",
       "3  666044226329800704  https://pbs.twimg.com/media/CT5Dr8HUEAA-lEu.jpg   \n",
       "4  666049248165822465  https://pbs.twimg.com/media/CT5IQmsXIAAKY4A.jpg   \n",
       "\n",
       "   img_num                      p1   p1_conf  p1_dog                  p2  \\\n",
       "0        1  Welsh_springer_spaniel  0.465074    True              collie   \n",
       "1        1                 redbone  0.506826    True  miniature_pinscher   \n",
       "2        1         German_shepherd  0.596461    True            malinois   \n",
       "3        1     Rhodesian_ridgeback  0.408143    True             redbone   \n",
       "4        1      miniature_pinscher  0.560311    True          Rottweiler   \n",
       "\n",
       "    p2_conf  p2_dog                   p3   p3_conf  p3_dog  \n",
       "0  0.156665    True    Shetland_sheepdog  0.061428    True  \n",
       "1  0.074192    True  Rhodesian_ridgeback  0.072010    True  \n",
       "2  0.138584    True           bloodhound  0.116197    True  \n",
       "3  0.360687    True   miniature_pinscher  0.222752    True  \n",
       "4  0.243682    True             Doberman  0.154629    True  "
      ]
     },
     "execution_count": 9,
     "metadata": {},
     "output_type": "execute_result"
    }
   ],
   "source": [
    "# Save the file\n",
    "with open('image-predictions.tsv', mode = 'wb') as file:\n",
    "    file.write(response.content)\n",
    "    \n",
    "# Read TSV file\n",
    "image_prediction = pd.read_csv('image-predictions.tsv', sep = '\\t')\n",
    "\n",
    "image_prediction.head()"
   ]
  },
  {
   "cell_type": "markdown",
   "metadata": {},
   "source": [
    "# API of twitter"
   ]
  },
  {
   "cell_type": "code",
   "execution_count": 10,
   "metadata": {},
   "outputs": [],
   "source": [
    "# Download file using Requests library via URL provided \n",
    "url = 'https://video.udacity-data.com/topher/2018/November/5be5fb7d_tweet-json/tweet-json.txt'\n",
    "response = requests.get(url)\n",
    "\n",
    "# Save the file\n",
    "with open('tweet-json.txt', mode = 'wb') as file:\n",
    "    file.write(response.content)"
   ]
  },
  {
   "cell_type": "code",
   "execution_count": 11,
   "metadata": {},
   "outputs": [
    {
     "data": {
      "text/html": [
       "<div>\n",
       "<style scoped>\n",
       "    .dataframe tbody tr th:only-of-type {\n",
       "        vertical-align: middle;\n",
       "    }\n",
       "\n",
       "    .dataframe tbody tr th {\n",
       "        vertical-align: top;\n",
       "    }\n",
       "\n",
       "    .dataframe thead th {\n",
       "        text-align: right;\n",
       "    }\n",
       "</style>\n",
       "<table border=\"1\" class=\"dataframe\">\n",
       "  <thead>\n",
       "    <tr style=\"text-align: right;\">\n",
       "      <th></th>\n",
       "      <th>tweet_id</th>\n",
       "      <th>retweet_count</th>\n",
       "      <th>favorite_count</th>\n",
       "    </tr>\n",
       "  </thead>\n",
       "  <tbody>\n",
       "    <tr>\n",
       "      <th>0</th>\n",
       "      <td>892420643555336193</td>\n",
       "      <td>8853</td>\n",
       "      <td>39467</td>\n",
       "    </tr>\n",
       "    <tr>\n",
       "      <th>1</th>\n",
       "      <td>892177421306343426</td>\n",
       "      <td>6514</td>\n",
       "      <td>33819</td>\n",
       "    </tr>\n",
       "    <tr>\n",
       "      <th>2</th>\n",
       "      <td>891815181378084864</td>\n",
       "      <td>4328</td>\n",
       "      <td>25461</td>\n",
       "    </tr>\n",
       "    <tr>\n",
       "      <th>3</th>\n",
       "      <td>891689557279858688</td>\n",
       "      <td>8964</td>\n",
       "      <td>42908</td>\n",
       "    </tr>\n",
       "    <tr>\n",
       "      <th>4</th>\n",
       "      <td>891327558926688256</td>\n",
       "      <td>9774</td>\n",
       "      <td>41048</td>\n",
       "    </tr>\n",
       "  </tbody>\n",
       "</table>\n",
       "</div>"
      ],
      "text/plain": [
       "             tweet_id  retweet_count  favorite_count\n",
       "0  892420643555336193           8853           39467\n",
       "1  892177421306343426           6514           33819\n",
       "2  891815181378084864           4328           25461\n",
       "3  891689557279858688           8964           42908\n",
       "4  891327558926688256           9774           41048"
      ]
     },
     "execution_count": 11,
     "metadata": {},
     "output_type": "execute_result"
    }
   ],
   "source": [
    "# Read downloaded txt file line by line into a pandas DataFrame\n",
    "df_list = []\n",
    "with open('tweet-json.txt', 'r') as file:\n",
    "    lines = file.readlines()\n",
    "    for line in lines:\n",
    "        parsed_json = json.loads(line)\n",
    "        df_list.append({'tweet_id': parsed_json['id'],\n",
    "                        'retweet_count': parsed_json['retweet_count'],\n",
    "                        'favorite_count': parsed_json['favorite_count']})\n",
    "        \n",
    "tweet_json = pd.DataFrame(df_list, columns = ['tweet_id', 'retweet_count', 'favorite_count'])\n",
    "\n",
    "tweet_json.head()"
   ]
  },
  {
   "cell_type": "markdown",
   "metadata": {
    "id": "QwSWIVmotLgV"
   },
   "source": [
    "# Assess data\n",
    "\n"
   ]
  },
  {
   "cell_type": "markdown",
   "metadata": {},
   "source": [
    "I will examine the data using both visual and programmatic methods to detect potential issues related to data quality, including content problems, and structural issues concerning tidiness.\n",
    "\n",
    "Data quality dimensions:\n",
    "\n",
    "Completeness /\n",
    "Validity /\n",
    "Accuracy /\n",
    "Consistency /\n",
    "Tidy data requirements:\n",
    "\n",
    "Each variable should constitute a column.\n",
    "Each observation should constitute a row.\n",
    "Each type of observational unit should constitute a table.\n",
    "\n",
    "\n",
    "\n",
    "\n",
    "\n"
   ]
  },
  {
   "cell_type": "markdown",
   "metadata": {
    "id": "-qfcocStzsKg"
   },
   "source": [
    "# Twitter table"
   ]
  },
  {
   "cell_type": "code",
   "execution_count": 12,
   "metadata": {},
   "outputs": [
    {
     "data": {
      "text/html": [
       "<div>\n",
       "<style scoped>\n",
       "    .dataframe tbody tr th:only-of-type {\n",
       "        vertical-align: middle;\n",
       "    }\n",
       "\n",
       "    .dataframe tbody tr th {\n",
       "        vertical-align: top;\n",
       "    }\n",
       "\n",
       "    .dataframe thead th {\n",
       "        text-align: right;\n",
       "    }\n",
       "</style>\n",
       "<table border=\"1\" class=\"dataframe\">\n",
       "  <thead>\n",
       "    <tr style=\"text-align: right;\">\n",
       "      <th></th>\n",
       "      <th>Unnamed: 0</th>\n",
       "      <th>tweet_id</th>\n",
       "      <th>timestamp</th>\n",
       "      <th>source</th>\n",
       "      <th>text</th>\n",
       "      <th>expanded_urls</th>\n",
       "      <th>rating_numerator</th>\n",
       "      <th>rating_denominator</th>\n",
       "      <th>name</th>\n",
       "      <th>dog_stage</th>\n",
       "      <th>retweet_count</th>\n",
       "      <th>favorite_count</th>\n",
       "      <th>jpg_url</th>\n",
       "      <th>breed</th>\n",
       "      <th>confident_level</th>\n",
       "    </tr>\n",
       "  </thead>\n",
       "  <tbody>\n",
       "    <tr>\n",
       "      <th>0</th>\n",
       "      <td>0</td>\n",
       "      <td>667470559035432960</td>\n",
       "      <td>2015-11-19 22:32:36</td>\n",
       "      <td>Twitter Web Client</td>\n",
       "      <td>This is a northern Wahoo named Kohl. He runs t...</td>\n",
       "      <td>https://twitter.com/dog_rates/status/667470559...</td>\n",
       "      <td>11.0</td>\n",
       "      <td>10</td>\n",
       "      <td>a</td>\n",
       "      <td>None</td>\n",
       "      <td>102</td>\n",
       "      <td>273</td>\n",
       "      <td>https://pbs.twimg.com/media/CUNU78YWEAECmpB.jpg</td>\n",
       "      <td>Toy_poodle</td>\n",
       "      <td>0.304175</td>\n",
       "    </tr>\n",
       "    <tr>\n",
       "      <th>1</th>\n",
       "      <td>1</td>\n",
       "      <td>667491009379606528</td>\n",
       "      <td>2015-11-19 23:53:52</td>\n",
       "      <td>Twitter Web Client</td>\n",
       "      <td>Two dogs in this one. Both are rare Jujitsu Py...</td>\n",
       "      <td>https://twitter.com/dog_rates/status/667491009...</td>\n",
       "      <td>7.0</td>\n",
       "      <td>10</td>\n",
       "      <td>None</td>\n",
       "      <td>None</td>\n",
       "      <td>242</td>\n",
       "      <td>559</td>\n",
       "      <td>https://pbs.twimg.com/media/CUNniSlUYAEj1Jl.jpg</td>\n",
       "      <td>Borzoi</td>\n",
       "      <td>0.852088</td>\n",
       "    </tr>\n",
       "    <tr>\n",
       "      <th>2</th>\n",
       "      <td>2</td>\n",
       "      <td>667495797102141441</td>\n",
       "      <td>2015-11-20 00:12:54</td>\n",
       "      <td>Twitter Web Client</td>\n",
       "      <td>This is Philippe from Soviet Russia. Commandin...</td>\n",
       "      <td>https://twitter.com/dog_rates/status/667495797...</td>\n",
       "      <td>9.0</td>\n",
       "      <td>10</td>\n",
       "      <td>Philippe</td>\n",
       "      <td>None</td>\n",
       "      <td>294</td>\n",
       "      <td>565</td>\n",
       "      <td>https://pbs.twimg.com/media/CUNr4-7UwAAg2lq.jpg</td>\n",
       "      <td>Chihuahua</td>\n",
       "      <td>0.143957</td>\n",
       "    </tr>\n",
       "    <tr>\n",
       "      <th>3</th>\n",
       "      <td>3</td>\n",
       "      <td>667502640335572993</td>\n",
       "      <td>2015-11-20 00:40:05</td>\n",
       "      <td>Twitter Web Client</td>\n",
       "      <td>Say hello to Hall and Oates. Oates is winking ...</td>\n",
       "      <td>https://twitter.com/dog_rates/status/667502640...</td>\n",
       "      <td>11.0</td>\n",
       "      <td>10</td>\n",
       "      <td>Hall</td>\n",
       "      <td>None</td>\n",
       "      <td>231</td>\n",
       "      <td>563</td>\n",
       "      <td>https://pbs.twimg.com/media/CUNyHTMUYAAQVch.jpg</td>\n",
       "      <td>Labrador_retriever</td>\n",
       "      <td>0.996709</td>\n",
       "    </tr>\n",
       "    <tr>\n",
       "      <th>4</th>\n",
       "      <td>4</td>\n",
       "      <td>667509364010450944</td>\n",
       "      <td>2015-11-20 01:06:48</td>\n",
       "      <td>Twitter Web Client</td>\n",
       "      <td>This a Norwegian Pewterschmidt named Tickles. ...</td>\n",
       "      <td>https://twitter.com/dog_rates/status/667509364...</td>\n",
       "      <td>12.0</td>\n",
       "      <td>10</td>\n",
       "      <td>None</td>\n",
       "      <td>None</td>\n",
       "      <td>2272</td>\n",
       "      <td>7148</td>\n",
       "      <td>https://pbs.twimg.com/media/CUN4Or5UAAAa5K4.jpg</td>\n",
       "      <td>Beagle</td>\n",
       "      <td>0.636169</td>\n",
       "    </tr>\n",
       "    <tr>\n",
       "      <th>...</th>\n",
       "      <td>...</td>\n",
       "      <td>...</td>\n",
       "      <td>...</td>\n",
       "      <td>...</td>\n",
       "      <td>...</td>\n",
       "      <td>...</td>\n",
       "      <td>...</td>\n",
       "      <td>...</td>\n",
       "      <td>...</td>\n",
       "      <td>...</td>\n",
       "      <td>...</td>\n",
       "      <td>...</td>\n",
       "      <td>...</td>\n",
       "      <td>...</td>\n",
       "      <td>...</td>\n",
       "    </tr>\n",
       "    <tr>\n",
       "      <th>1653</th>\n",
       "      <td>1779</td>\n",
       "      <td>878776093423087618</td>\n",
       "      <td>2017-06-25 00:45:22</td>\n",
       "      <td>Twitter for iPhone</td>\n",
       "      <td>This is Snoopy. He's a proud #PrideMonthPuppo....</td>\n",
       "      <td>https://twitter.com/dog_rates/status/878776093...</td>\n",
       "      <td>13.0</td>\n",
       "      <td>10</td>\n",
       "      <td>Snoopy</td>\n",
       "      <td>puppo</td>\n",
       "      <td>4319</td>\n",
       "      <td>19763</td>\n",
       "      <td>https://pbs.twimg.com/media/DDIKMXzW0AEibje.jpg</td>\n",
       "      <td>Italian_greyhound</td>\n",
       "      <td>0.734684</td>\n",
       "    </tr>\n",
       "    <tr>\n",
       "      <th>1654</th>\n",
       "      <td>1780</td>\n",
       "      <td>867421006826221569</td>\n",
       "      <td>2017-05-24 16:44:18</td>\n",
       "      <td>Twitter for iPhone</td>\n",
       "      <td>This is Shikha. She just watched you drop a sk...</td>\n",
       "      <td>https://twitter.com/dog_rates/status/867421006...</td>\n",
       "      <td>12.0</td>\n",
       "      <td>10</td>\n",
       "      <td>Shikha</td>\n",
       "      <td>puppo</td>\n",
       "      <td>2697</td>\n",
       "      <td>16755</td>\n",
       "      <td>https://pbs.twimg.com/media/DAmyy8FXYAIH8Ty.jpg</td>\n",
       "      <td>Eskimo_dog</td>\n",
       "      <td>0.616457</td>\n",
       "    </tr>\n",
       "    <tr>\n",
       "      <th>1655</th>\n",
       "      <td>1781</td>\n",
       "      <td>859607811541651456</td>\n",
       "      <td>2017-05-03 03:17:27</td>\n",
       "      <td>Twitter for iPhone</td>\n",
       "      <td>Sorry for the lack of posts today. I came home...</td>\n",
       "      <td>https://twitter.com/dog_rates/status/859607811...</td>\n",
       "      <td>13.0</td>\n",
       "      <td>10</td>\n",
       "      <td>None</td>\n",
       "      <td>puppo</td>\n",
       "      <td>1704</td>\n",
       "      <td>19476</td>\n",
       "      <td>https://pbs.twimg.com/media/C-3wvtxXcAUTuBE.jpg</td>\n",
       "      <td>Golden_retriever</td>\n",
       "      <td>0.895529</td>\n",
       "    </tr>\n",
       "    <tr>\n",
       "      <th>1656</th>\n",
       "      <td>1782</td>\n",
       "      <td>825026590719483904</td>\n",
       "      <td>2017-01-27 17:04:02</td>\n",
       "      <td>Twitter for iPhone</td>\n",
       "      <td>Say hello to Pablo. He's one gorgeous puppo. A...</td>\n",
       "      <td>https://www.gofundme.com/my-puppys-double-cata...</td>\n",
       "      <td>12.0</td>\n",
       "      <td>10</td>\n",
       "      <td>Pablo</td>\n",
       "      <td>puppo</td>\n",
       "      <td>1483</td>\n",
       "      <td>7020</td>\n",
       "      <td>https://pbs.twimg.com/media/C3MVTeHWcAAGNfx.jpg</td>\n",
       "      <td>Eskimo_dog</td>\n",
       "      <td>0.524454</td>\n",
       "    </tr>\n",
       "    <tr>\n",
       "      <th>1657</th>\n",
       "      <td>1783</td>\n",
       "      <td>803773340896923648</td>\n",
       "      <td>2016-11-30 01:31:12</td>\n",
       "      <td>Twitter for iPhone</td>\n",
       "      <td>This is Diogi. He fell in the pool as soon as ...</td>\n",
       "      <td>https://twitter.com/dog_rates/status/803773340...</td>\n",
       "      <td>12.0</td>\n",
       "      <td>10</td>\n",
       "      <td>Diogi</td>\n",
       "      <td>puppo</td>\n",
       "      <td>3220</td>\n",
       "      <td>11203</td>\n",
       "      <td>https://pbs.twimg.com/media/CyeTku-XcAALkBd.jpg</td>\n",
       "      <td>Miniature_pinscher</td>\n",
       "      <td>0.817066</td>\n",
       "    </tr>\n",
       "  </tbody>\n",
       "</table>\n",
       "<p>1658 rows × 15 columns</p>\n",
       "</div>"
      ],
      "text/plain": [
       "      Unnamed: 0            tweet_id            timestamp              source  \\\n",
       "0              0  667470559035432960  2015-11-19 22:32:36  Twitter Web Client   \n",
       "1              1  667491009379606528  2015-11-19 23:53:52  Twitter Web Client   \n",
       "2              2  667495797102141441  2015-11-20 00:12:54  Twitter Web Client   \n",
       "3              3  667502640335572993  2015-11-20 00:40:05  Twitter Web Client   \n",
       "4              4  667509364010450944  2015-11-20 01:06:48  Twitter Web Client   \n",
       "...          ...                 ...                  ...                 ...   \n",
       "1653        1779  878776093423087618  2017-06-25 00:45:22  Twitter for iPhone   \n",
       "1654        1780  867421006826221569  2017-05-24 16:44:18  Twitter for iPhone   \n",
       "1655        1781  859607811541651456  2017-05-03 03:17:27  Twitter for iPhone   \n",
       "1656        1782  825026590719483904  2017-01-27 17:04:02  Twitter for iPhone   \n",
       "1657        1783  803773340896923648  2016-11-30 01:31:12  Twitter for iPhone   \n",
       "\n",
       "                                                   text  \\\n",
       "0     This is a northern Wahoo named Kohl. He runs t...   \n",
       "1     Two dogs in this one. Both are rare Jujitsu Py...   \n",
       "2     This is Philippe from Soviet Russia. Commandin...   \n",
       "3     Say hello to Hall and Oates. Oates is winking ...   \n",
       "4     This a Norwegian Pewterschmidt named Tickles. ...   \n",
       "...                                                 ...   \n",
       "1653  This is Snoopy. He's a proud #PrideMonthPuppo....   \n",
       "1654  This is Shikha. She just watched you drop a sk...   \n",
       "1655  Sorry for the lack of posts today. I came home...   \n",
       "1656  Say hello to Pablo. He's one gorgeous puppo. A...   \n",
       "1657  This is Diogi. He fell in the pool as soon as ...   \n",
       "\n",
       "                                          expanded_urls  rating_numerator  \\\n",
       "0     https://twitter.com/dog_rates/status/667470559...              11.0   \n",
       "1     https://twitter.com/dog_rates/status/667491009...               7.0   \n",
       "2     https://twitter.com/dog_rates/status/667495797...               9.0   \n",
       "3     https://twitter.com/dog_rates/status/667502640...              11.0   \n",
       "4     https://twitter.com/dog_rates/status/667509364...              12.0   \n",
       "...                                                 ...               ...   \n",
       "1653  https://twitter.com/dog_rates/status/878776093...              13.0   \n",
       "1654  https://twitter.com/dog_rates/status/867421006...              12.0   \n",
       "1655  https://twitter.com/dog_rates/status/859607811...              13.0   \n",
       "1656  https://www.gofundme.com/my-puppys-double-cata...              12.0   \n",
       "1657  https://twitter.com/dog_rates/status/803773340...              12.0   \n",
       "\n",
       "      rating_denominator      name dog_stage  retweet_count  favorite_count  \\\n",
       "0                     10         a      None            102             273   \n",
       "1                     10      None      None            242             559   \n",
       "2                     10  Philippe      None            294             565   \n",
       "3                     10      Hall      None            231             563   \n",
       "4                     10      None      None           2272            7148   \n",
       "...                  ...       ...       ...            ...             ...   \n",
       "1653                  10    Snoopy     puppo           4319           19763   \n",
       "1654                  10    Shikha     puppo           2697           16755   \n",
       "1655                  10      None     puppo           1704           19476   \n",
       "1656                  10     Pablo     puppo           1483            7020   \n",
       "1657                  10     Diogi     puppo           3220           11203   \n",
       "\n",
       "                                              jpg_url               breed  \\\n",
       "0     https://pbs.twimg.com/media/CUNU78YWEAECmpB.jpg          Toy_poodle   \n",
       "1     https://pbs.twimg.com/media/CUNniSlUYAEj1Jl.jpg              Borzoi   \n",
       "2     https://pbs.twimg.com/media/CUNr4-7UwAAg2lq.jpg           Chihuahua   \n",
       "3     https://pbs.twimg.com/media/CUNyHTMUYAAQVch.jpg  Labrador_retriever   \n",
       "4     https://pbs.twimg.com/media/CUN4Or5UAAAa5K4.jpg              Beagle   \n",
       "...                                               ...                 ...   \n",
       "1653  https://pbs.twimg.com/media/DDIKMXzW0AEibje.jpg   Italian_greyhound   \n",
       "1654  https://pbs.twimg.com/media/DAmyy8FXYAIH8Ty.jpg          Eskimo_dog   \n",
       "1655  https://pbs.twimg.com/media/C-3wvtxXcAUTuBE.jpg    Golden_retriever   \n",
       "1656  https://pbs.twimg.com/media/C3MVTeHWcAAGNfx.jpg          Eskimo_dog   \n",
       "1657  https://pbs.twimg.com/media/CyeTku-XcAALkBd.jpg  Miniature_pinscher   \n",
       "\n",
       "      confident_level  \n",
       "0            0.304175  \n",
       "1            0.852088  \n",
       "2            0.143957  \n",
       "3            0.996709  \n",
       "4            0.636169  \n",
       "...               ...  \n",
       "1653         0.734684  \n",
       "1654         0.616457  \n",
       "1655         0.895529  \n",
       "1656         0.524454  \n",
       "1657         0.817066  \n",
       "\n",
       "[1658 rows x 15 columns]"
      ]
     },
     "execution_count": 12,
     "metadata": {},
     "output_type": "execute_result"
    }
   ],
   "source": [
    "twitter_archive\n"
   ]
  },
  {
   "cell_type": "code",
   "execution_count": 13,
   "metadata": {},
   "outputs": [
    {
     "name": "stdout",
     "output_type": "stream",
     "text": [
      "<class 'pandas.core.frame.DataFrame'>\n",
      "RangeIndex: 1658 entries, 0 to 1657\n",
      "Data columns (total 15 columns):\n",
      " #   Column              Non-Null Count  Dtype  \n",
      "---  ------              --------------  -----  \n",
      " 0   Unnamed: 0          1658 non-null   int64  \n",
      " 1   tweet_id            1658 non-null   int64  \n",
      " 2   timestamp           1658 non-null   object \n",
      " 3   source              1658 non-null   object \n",
      " 4   text                1658 non-null   object \n",
      " 5   expanded_urls       1658 non-null   object \n",
      " 6   rating_numerator    1658 non-null   float64\n",
      " 7   rating_denominator  1658 non-null   int64  \n",
      " 8   name                1658 non-null   object \n",
      " 9   dog_stage           1658 non-null   object \n",
      " 10  retweet_count       1658 non-null   int64  \n",
      " 11  favorite_count      1658 non-null   int64  \n",
      " 12  jpg_url             1658 non-null   object \n",
      " 13  breed               1658 non-null   object \n",
      " 14  confident_level     1658 non-null   float64\n",
      "dtypes: float64(2), int64(5), object(8)\n",
      "memory usage: 194.4+ KB\n"
     ]
    }
   ],
   "source": [
    "twitter_archive.info()\n"
   ]
  },
  {
   "cell_type": "code",
   "execution_count": 14,
   "metadata": {},
   "outputs": [
    {
     "data": {
      "text/html": [
       "<div>\n",
       "<style scoped>\n",
       "    .dataframe tbody tr th:only-of-type {\n",
       "        vertical-align: middle;\n",
       "    }\n",
       "\n",
       "    .dataframe tbody tr th {\n",
       "        vertical-align: top;\n",
       "    }\n",
       "\n",
       "    .dataframe thead th {\n",
       "        text-align: right;\n",
       "    }\n",
       "</style>\n",
       "<table border=\"1\" class=\"dataframe\">\n",
       "  <thead>\n",
       "    <tr style=\"text-align: right;\">\n",
       "      <th></th>\n",
       "      <th>Unnamed: 0</th>\n",
       "      <th>tweet_id</th>\n",
       "      <th>rating_numerator</th>\n",
       "      <th>rating_denominator</th>\n",
       "      <th>retweet_count</th>\n",
       "      <th>favorite_count</th>\n",
       "      <th>confident_level</th>\n",
       "    </tr>\n",
       "  </thead>\n",
       "  <tbody>\n",
       "    <tr>\n",
       "      <th>count</th>\n",
       "      <td>1658.000000</td>\n",
       "      <td>1.658000e+03</td>\n",
       "      <td>1658.000000</td>\n",
       "      <td>1658.0</td>\n",
       "      <td>1658.000000</td>\n",
       "      <td>1658.000000</td>\n",
       "      <td>1658.000000</td>\n",
       "    </tr>\n",
       "    <tr>\n",
       "      <th>mean</th>\n",
       "      <td>886.033172</td>\n",
       "      <td>7.397171e+17</td>\n",
       "      <td>10.868384</td>\n",
       "      <td>10.0</td>\n",
       "      <td>2841.998794</td>\n",
       "      <td>9318.565139</td>\n",
       "      <td>0.553127</td>\n",
       "    </tr>\n",
       "    <tr>\n",
       "      <th>std</th>\n",
       "      <td>512.393284</td>\n",
       "      <td>6.806603e+16</td>\n",
       "      <td>1.683681</td>\n",
       "      <td>0.0</td>\n",
       "      <td>4842.086769</td>\n",
       "      <td>12663.747772</td>\n",
       "      <td>0.298658</td>\n",
       "    </tr>\n",
       "    <tr>\n",
       "      <th>min</th>\n",
       "      <td>0.000000</td>\n",
       "      <td>6.660209e+17</td>\n",
       "      <td>2.000000</td>\n",
       "      <td>10.0</td>\n",
       "      <td>16.000000</td>\n",
       "      <td>81.000000</td>\n",
       "      <td>0.000010</td>\n",
       "    </tr>\n",
       "    <tr>\n",
       "      <th>25%</th>\n",
       "      <td>451.500000</td>\n",
       "      <td>6.775853e+17</td>\n",
       "      <td>10.000000</td>\n",
       "      <td>10.0</td>\n",
       "      <td>652.250000</td>\n",
       "      <td>2181.250000</td>\n",
       "      <td>0.308122</td>\n",
       "    </tr>\n",
       "    <tr>\n",
       "      <th>50%</th>\n",
       "      <td>882.500000</td>\n",
       "      <td>7.142549e+17</td>\n",
       "      <td>11.000000</td>\n",
       "      <td>10.0</td>\n",
       "      <td>1441.500000</td>\n",
       "      <td>4491.000000</td>\n",
       "      <td>0.554116</td>\n",
       "    </tr>\n",
       "    <tr>\n",
       "      <th>75%</th>\n",
       "      <td>1324.750000</td>\n",
       "      <td>7.932223e+17</td>\n",
       "      <td>12.000000</td>\n",
       "      <td>10.0</td>\n",
       "      <td>3265.750000</td>\n",
       "      <td>11773.750000</td>\n",
       "      <td>0.823575</td>\n",
       "    </tr>\n",
       "    <tr>\n",
       "      <th>max</th>\n",
       "      <td>1783.000000</td>\n",
       "      <td>8.921774e+17</td>\n",
       "      <td>14.000000</td>\n",
       "      <td>10.0</td>\n",
       "      <td>79515.000000</td>\n",
       "      <td>132810.000000</td>\n",
       "      <td>0.999956</td>\n",
       "    </tr>\n",
       "  </tbody>\n",
       "</table>\n",
       "</div>"
      ],
      "text/plain": [
       "        Unnamed: 0      tweet_id  rating_numerator  rating_denominator  \\\n",
       "count  1658.000000  1.658000e+03       1658.000000              1658.0   \n",
       "mean    886.033172  7.397171e+17         10.868384                10.0   \n",
       "std     512.393284  6.806603e+16          1.683681                 0.0   \n",
       "min       0.000000  6.660209e+17          2.000000                10.0   \n",
       "25%     451.500000  6.775853e+17         10.000000                10.0   \n",
       "50%     882.500000  7.142549e+17         11.000000                10.0   \n",
       "75%    1324.750000  7.932223e+17         12.000000                10.0   \n",
       "max    1783.000000  8.921774e+17         14.000000                10.0   \n",
       "\n",
       "       retweet_count  favorite_count  confident_level  \n",
       "count    1658.000000     1658.000000      1658.000000  \n",
       "mean     2841.998794     9318.565139         0.553127  \n",
       "std      4842.086769    12663.747772         0.298658  \n",
       "min        16.000000       81.000000         0.000010  \n",
       "25%       652.250000     2181.250000         0.308122  \n",
       "50%      1441.500000     4491.000000         0.554116  \n",
       "75%      3265.750000    11773.750000         0.823575  \n",
       "max     79515.000000   132810.000000         0.999956  "
      ]
     },
     "execution_count": 14,
     "metadata": {},
     "output_type": "execute_result"
    }
   ],
   "source": [
    "twitter_archive.describe()"
   ]
  },
  {
   "cell_type": "code",
   "execution_count": 15,
   "metadata": {},
   "outputs": [
    {
     "data": {
      "text/plain": [
       "0"
      ]
     },
     "execution_count": 15,
     "metadata": {},
     "output_type": "execute_result"
    }
   ],
   "source": [
    "twitter_archive.duplicated().sum()"
   ]
  },
  {
   "cell_type": "code",
   "execution_count": 16,
   "metadata": {},
   "outputs": [
    {
     "data": {
      "text/plain": [
       "0"
      ]
     },
     "execution_count": 16,
     "metadata": {},
     "output_type": "execute_result"
    }
   ],
   "source": [
    "\n",
    "twitter_archive.tweet_id.duplicated().sum()"
   ]
  },
  {
   "cell_type": "code",
   "execution_count": 17,
   "metadata": {},
   "outputs": [
    {
     "data": {
      "text/plain": [
       "12.00    424\n",
       "10.00    361\n",
       "11.00    359\n",
       "13.00    222\n",
       "9.00     133\n",
       "8.00      68\n",
       "7.00      31\n",
       "14.00     22\n",
       "6.00      16\n",
       "5.00      13\n",
       "2.00       2\n",
       "3.00       2\n",
       "13.50      1\n",
       "11.26      1\n",
       "9.75       1\n",
       "4.00       1\n",
       "11.27      1\n",
       "Name: rating_numerator, dtype: int64"
      ]
     },
     "execution_count": 17,
     "metadata": {},
     "output_type": "execute_result"
    }
   ],
   "source": [
    "twitter_archive.rating_numerator.value_counts()"
   ]
  },
  {
   "cell_type": "code",
   "execution_count": 18,
   "metadata": {},
   "outputs": [
    {
     "data": {
      "text/plain": [
       "10    1658\n",
       "Name: rating_denominator, dtype: int64"
      ]
     },
     "execution_count": 18,
     "metadata": {},
     "output_type": "execute_result"
    }
   ],
   "source": [
    "twitter_archive.rating_denominator.value_counts()"
   ]
  },
  {
   "cell_type": "code",
   "execution_count": 22,
   "metadata": {},
   "outputs": [
    {
     "data": {
      "text/plain": [
       "Twitter for iPhone    1627\n",
       "Twitter Web Client      22\n",
       "TweetDeck                9\n",
       "Name: source, dtype: int64"
      ]
     },
     "execution_count": 22,
     "metadata": {},
     "output_type": "execute_result"
    }
   ],
   "source": [
    "twitter_archive.source.value_counts()"
   ]
  },
  {
   "cell_type": "markdown",
   "metadata": {},
   "source": [
    "\n",
    "Notes:\n",
    "\n",
    "Convert data types of in_reply_to_status_id, in_reply_to_user_id, retweeted_status_id, and retweeted_status_user_id from float to int.\n",
    "\n",
    "Retain only original ratings with pictures; remove entries related to retweets and replies, along with their corresponding columns. Address the picture part later.\n",
    "\n",
    "Convert the data type of timestamp from str to datetime and remove the \"+0000\" in the timestamp.\n",
    "\n",
    "Consolidate the dog stages (doggo, floofer, pupper, puppo) into a single column.\n",
    "\n",
    "Address abnormal values in rating_denominator (e.g., 170, 150, 130), noting that the denominator is typically 10.\n",
    "\n",
    "Address abnormal values in rating_numerator (e.g., 1776, 960, 666, 204, 165), which seem nonsensical.\n",
    "\n",
    "Eliminate redundant information in the source column to enhance readability."
   ]
  },
  {
   "cell_type": "markdown",
   "metadata": {},
   "source": [
    "# prediction table of image\n"
   ]
  },
  {
   "cell_type": "code",
   "execution_count": 24,
   "metadata": {},
   "outputs": [
    {
     "data": {
      "text/html": [
       "<div>\n",
       "<style scoped>\n",
       "    .dataframe tbody tr th:only-of-type {\n",
       "        vertical-align: middle;\n",
       "    }\n",
       "\n",
       "    .dataframe tbody tr th {\n",
       "        vertical-align: top;\n",
       "    }\n",
       "\n",
       "    .dataframe thead th {\n",
       "        text-align: right;\n",
       "    }\n",
       "</style>\n",
       "<table border=\"1\" class=\"dataframe\">\n",
       "  <thead>\n",
       "    <tr style=\"text-align: right;\">\n",
       "      <th></th>\n",
       "      <th>tweet_id</th>\n",
       "      <th>jpg_url</th>\n",
       "      <th>img_num</th>\n",
       "      <th>p1</th>\n",
       "      <th>p1_conf</th>\n",
       "      <th>p1_dog</th>\n",
       "      <th>p2</th>\n",
       "      <th>p2_conf</th>\n",
       "      <th>p2_dog</th>\n",
       "      <th>p3</th>\n",
       "      <th>p3_conf</th>\n",
       "      <th>p3_dog</th>\n",
       "    </tr>\n",
       "  </thead>\n",
       "  <tbody>\n",
       "    <tr>\n",
       "      <th>0</th>\n",
       "      <td>666020888022790149</td>\n",
       "      <td>https://pbs.twimg.com/media/CT4udn0WwAA0aMy.jpg</td>\n",
       "      <td>1</td>\n",
       "      <td>Welsh_springer_spaniel</td>\n",
       "      <td>0.465074</td>\n",
       "      <td>True</td>\n",
       "      <td>collie</td>\n",
       "      <td>0.156665</td>\n",
       "      <td>True</td>\n",
       "      <td>Shetland_sheepdog</td>\n",
       "      <td>0.061428</td>\n",
       "      <td>True</td>\n",
       "    </tr>\n",
       "    <tr>\n",
       "      <th>1</th>\n",
       "      <td>666029285002620928</td>\n",
       "      <td>https://pbs.twimg.com/media/CT42GRgUYAA5iDo.jpg</td>\n",
       "      <td>1</td>\n",
       "      <td>redbone</td>\n",
       "      <td>0.506826</td>\n",
       "      <td>True</td>\n",
       "      <td>miniature_pinscher</td>\n",
       "      <td>0.074192</td>\n",
       "      <td>True</td>\n",
       "      <td>Rhodesian_ridgeback</td>\n",
       "      <td>0.072010</td>\n",
       "      <td>True</td>\n",
       "    </tr>\n",
       "    <tr>\n",
       "      <th>2</th>\n",
       "      <td>666033412701032449</td>\n",
       "      <td>https://pbs.twimg.com/media/CT4521TWwAEvMyu.jpg</td>\n",
       "      <td>1</td>\n",
       "      <td>German_shepherd</td>\n",
       "      <td>0.596461</td>\n",
       "      <td>True</td>\n",
       "      <td>malinois</td>\n",
       "      <td>0.138584</td>\n",
       "      <td>True</td>\n",
       "      <td>bloodhound</td>\n",
       "      <td>0.116197</td>\n",
       "      <td>True</td>\n",
       "    </tr>\n",
       "    <tr>\n",
       "      <th>3</th>\n",
       "      <td>666044226329800704</td>\n",
       "      <td>https://pbs.twimg.com/media/CT5Dr8HUEAA-lEu.jpg</td>\n",
       "      <td>1</td>\n",
       "      <td>Rhodesian_ridgeback</td>\n",
       "      <td>0.408143</td>\n",
       "      <td>True</td>\n",
       "      <td>redbone</td>\n",
       "      <td>0.360687</td>\n",
       "      <td>True</td>\n",
       "      <td>miniature_pinscher</td>\n",
       "      <td>0.222752</td>\n",
       "      <td>True</td>\n",
       "    </tr>\n",
       "    <tr>\n",
       "      <th>4</th>\n",
       "      <td>666049248165822465</td>\n",
       "      <td>https://pbs.twimg.com/media/CT5IQmsXIAAKY4A.jpg</td>\n",
       "      <td>1</td>\n",
       "      <td>miniature_pinscher</td>\n",
       "      <td>0.560311</td>\n",
       "      <td>True</td>\n",
       "      <td>Rottweiler</td>\n",
       "      <td>0.243682</td>\n",
       "      <td>True</td>\n",
       "      <td>Doberman</td>\n",
       "      <td>0.154629</td>\n",
       "      <td>True</td>\n",
       "    </tr>\n",
       "    <tr>\n",
       "      <th>...</th>\n",
       "      <td>...</td>\n",
       "      <td>...</td>\n",
       "      <td>...</td>\n",
       "      <td>...</td>\n",
       "      <td>...</td>\n",
       "      <td>...</td>\n",
       "      <td>...</td>\n",
       "      <td>...</td>\n",
       "      <td>...</td>\n",
       "      <td>...</td>\n",
       "      <td>...</td>\n",
       "      <td>...</td>\n",
       "    </tr>\n",
       "    <tr>\n",
       "      <th>2070</th>\n",
       "      <td>891327558926688256</td>\n",
       "      <td>https://pbs.twimg.com/media/DF6hr6BUMAAzZgT.jpg</td>\n",
       "      <td>2</td>\n",
       "      <td>basset</td>\n",
       "      <td>0.555712</td>\n",
       "      <td>True</td>\n",
       "      <td>English_springer</td>\n",
       "      <td>0.225770</td>\n",
       "      <td>True</td>\n",
       "      <td>German_short-haired_pointer</td>\n",
       "      <td>0.175219</td>\n",
       "      <td>True</td>\n",
       "    </tr>\n",
       "    <tr>\n",
       "      <th>2071</th>\n",
       "      <td>891689557279858688</td>\n",
       "      <td>https://pbs.twimg.com/media/DF_q7IAWsAEuuN8.jpg</td>\n",
       "      <td>1</td>\n",
       "      <td>paper_towel</td>\n",
       "      <td>0.170278</td>\n",
       "      <td>False</td>\n",
       "      <td>Labrador_retriever</td>\n",
       "      <td>0.168086</td>\n",
       "      <td>True</td>\n",
       "      <td>spatula</td>\n",
       "      <td>0.040836</td>\n",
       "      <td>False</td>\n",
       "    </tr>\n",
       "    <tr>\n",
       "      <th>2072</th>\n",
       "      <td>891815181378084864</td>\n",
       "      <td>https://pbs.twimg.com/media/DGBdLU1WsAANxJ9.jpg</td>\n",
       "      <td>1</td>\n",
       "      <td>Chihuahua</td>\n",
       "      <td>0.716012</td>\n",
       "      <td>True</td>\n",
       "      <td>malamute</td>\n",
       "      <td>0.078253</td>\n",
       "      <td>True</td>\n",
       "      <td>kelpie</td>\n",
       "      <td>0.031379</td>\n",
       "      <td>True</td>\n",
       "    </tr>\n",
       "    <tr>\n",
       "      <th>2073</th>\n",
       "      <td>892177421306343426</td>\n",
       "      <td>https://pbs.twimg.com/media/DGGmoV4XsAAUL6n.jpg</td>\n",
       "      <td>1</td>\n",
       "      <td>Chihuahua</td>\n",
       "      <td>0.323581</td>\n",
       "      <td>True</td>\n",
       "      <td>Pekinese</td>\n",
       "      <td>0.090647</td>\n",
       "      <td>True</td>\n",
       "      <td>papillon</td>\n",
       "      <td>0.068957</td>\n",
       "      <td>True</td>\n",
       "    </tr>\n",
       "    <tr>\n",
       "      <th>2074</th>\n",
       "      <td>892420643555336193</td>\n",
       "      <td>https://pbs.twimg.com/media/DGKD1-bXoAAIAUK.jpg</td>\n",
       "      <td>1</td>\n",
       "      <td>orange</td>\n",
       "      <td>0.097049</td>\n",
       "      <td>False</td>\n",
       "      <td>bagel</td>\n",
       "      <td>0.085851</td>\n",
       "      <td>False</td>\n",
       "      <td>banana</td>\n",
       "      <td>0.076110</td>\n",
       "      <td>False</td>\n",
       "    </tr>\n",
       "  </tbody>\n",
       "</table>\n",
       "<p>2075 rows × 12 columns</p>\n",
       "</div>"
      ],
      "text/plain": [
       "                tweet_id                                          jpg_url  \\\n",
       "0     666020888022790149  https://pbs.twimg.com/media/CT4udn0WwAA0aMy.jpg   \n",
       "1     666029285002620928  https://pbs.twimg.com/media/CT42GRgUYAA5iDo.jpg   \n",
       "2     666033412701032449  https://pbs.twimg.com/media/CT4521TWwAEvMyu.jpg   \n",
       "3     666044226329800704  https://pbs.twimg.com/media/CT5Dr8HUEAA-lEu.jpg   \n",
       "4     666049248165822465  https://pbs.twimg.com/media/CT5IQmsXIAAKY4A.jpg   \n",
       "...                  ...                                              ...   \n",
       "2070  891327558926688256  https://pbs.twimg.com/media/DF6hr6BUMAAzZgT.jpg   \n",
       "2071  891689557279858688  https://pbs.twimg.com/media/DF_q7IAWsAEuuN8.jpg   \n",
       "2072  891815181378084864  https://pbs.twimg.com/media/DGBdLU1WsAANxJ9.jpg   \n",
       "2073  892177421306343426  https://pbs.twimg.com/media/DGGmoV4XsAAUL6n.jpg   \n",
       "2074  892420643555336193  https://pbs.twimg.com/media/DGKD1-bXoAAIAUK.jpg   \n",
       "\n",
       "      img_num                      p1   p1_conf  p1_dog                  p2  \\\n",
       "0           1  Welsh_springer_spaniel  0.465074    True              collie   \n",
       "1           1                 redbone  0.506826    True  miniature_pinscher   \n",
       "2           1         German_shepherd  0.596461    True            malinois   \n",
       "3           1     Rhodesian_ridgeback  0.408143    True             redbone   \n",
       "4           1      miniature_pinscher  0.560311    True          Rottweiler   \n",
       "...       ...                     ...       ...     ...                 ...   \n",
       "2070        2                  basset  0.555712    True    English_springer   \n",
       "2071        1             paper_towel  0.170278   False  Labrador_retriever   \n",
       "2072        1               Chihuahua  0.716012    True            malamute   \n",
       "2073        1               Chihuahua  0.323581    True            Pekinese   \n",
       "2074        1                  orange  0.097049   False               bagel   \n",
       "\n",
       "       p2_conf  p2_dog                           p3   p3_conf  p3_dog  \n",
       "0     0.156665    True            Shetland_sheepdog  0.061428    True  \n",
       "1     0.074192    True          Rhodesian_ridgeback  0.072010    True  \n",
       "2     0.138584    True                   bloodhound  0.116197    True  \n",
       "3     0.360687    True           miniature_pinscher  0.222752    True  \n",
       "4     0.243682    True                     Doberman  0.154629    True  \n",
       "...        ...     ...                          ...       ...     ...  \n",
       "2070  0.225770    True  German_short-haired_pointer  0.175219    True  \n",
       "2071  0.168086    True                      spatula  0.040836   False  \n",
       "2072  0.078253    True                       kelpie  0.031379    True  \n",
       "2073  0.090647    True                     papillon  0.068957    True  \n",
       "2074  0.085851   False                       banana  0.076110   False  \n",
       "\n",
       "[2075 rows x 12 columns]"
      ]
     },
     "execution_count": 24,
     "metadata": {},
     "output_type": "execute_result"
    }
   ],
   "source": [
    "image_prediction"
   ]
  },
  {
   "cell_type": "code",
   "execution_count": 25,
   "metadata": {},
   "outputs": [
    {
     "name": "stdout",
     "output_type": "stream",
     "text": [
      "<class 'pandas.core.frame.DataFrame'>\n",
      "RangeIndex: 2075 entries, 0 to 2074\n",
      "Data columns (total 12 columns):\n",
      " #   Column    Non-Null Count  Dtype  \n",
      "---  ------    --------------  -----  \n",
      " 0   tweet_id  2075 non-null   int64  \n",
      " 1   jpg_url   2075 non-null   object \n",
      " 2   img_num   2075 non-null   int64  \n",
      " 3   p1        2075 non-null   object \n",
      " 4   p1_conf   2075 non-null   float64\n",
      " 5   p1_dog    2075 non-null   bool   \n",
      " 6   p2        2075 non-null   object \n",
      " 7   p2_conf   2075 non-null   float64\n",
      " 8   p2_dog    2075 non-null   bool   \n",
      " 9   p3        2075 non-null   object \n",
      " 10  p3_conf   2075 non-null   float64\n",
      " 11  p3_dog    2075 non-null   bool   \n",
      "dtypes: bool(3), float64(3), int64(2), object(4)\n",
      "memory usage: 152.1+ KB\n"
     ]
    }
   ],
   "source": [
    "image_prediction.info()\n"
   ]
  },
  {
   "cell_type": "code",
   "execution_count": 26,
   "metadata": {},
   "outputs": [
    {
     "data": {
      "text/html": [
       "<div>\n",
       "<style scoped>\n",
       "    .dataframe tbody tr th:only-of-type {\n",
       "        vertical-align: middle;\n",
       "    }\n",
       "\n",
       "    .dataframe tbody tr th {\n",
       "        vertical-align: top;\n",
       "    }\n",
       "\n",
       "    .dataframe thead th {\n",
       "        text-align: right;\n",
       "    }\n",
       "</style>\n",
       "<table border=\"1\" class=\"dataframe\">\n",
       "  <thead>\n",
       "    <tr style=\"text-align: right;\">\n",
       "      <th></th>\n",
       "      <th>tweet_id</th>\n",
       "      <th>img_num</th>\n",
       "      <th>p1_conf</th>\n",
       "      <th>p2_conf</th>\n",
       "      <th>p3_conf</th>\n",
       "    </tr>\n",
       "  </thead>\n",
       "  <tbody>\n",
       "    <tr>\n",
       "      <th>count</th>\n",
       "      <td>2.075000e+03</td>\n",
       "      <td>2075.000000</td>\n",
       "      <td>2075.000000</td>\n",
       "      <td>2.075000e+03</td>\n",
       "      <td>2.075000e+03</td>\n",
       "    </tr>\n",
       "    <tr>\n",
       "      <th>mean</th>\n",
       "      <td>7.384514e+17</td>\n",
       "      <td>1.203855</td>\n",
       "      <td>0.594548</td>\n",
       "      <td>1.345886e-01</td>\n",
       "      <td>6.032417e-02</td>\n",
       "    </tr>\n",
       "    <tr>\n",
       "      <th>std</th>\n",
       "      <td>6.785203e+16</td>\n",
       "      <td>0.561875</td>\n",
       "      <td>0.271174</td>\n",
       "      <td>1.006657e-01</td>\n",
       "      <td>5.090593e-02</td>\n",
       "    </tr>\n",
       "    <tr>\n",
       "      <th>min</th>\n",
       "      <td>6.660209e+17</td>\n",
       "      <td>1.000000</td>\n",
       "      <td>0.044333</td>\n",
       "      <td>1.011300e-08</td>\n",
       "      <td>1.740170e-10</td>\n",
       "    </tr>\n",
       "    <tr>\n",
       "      <th>25%</th>\n",
       "      <td>6.764835e+17</td>\n",
       "      <td>1.000000</td>\n",
       "      <td>0.364412</td>\n",
       "      <td>5.388625e-02</td>\n",
       "      <td>1.622240e-02</td>\n",
       "    </tr>\n",
       "    <tr>\n",
       "      <th>50%</th>\n",
       "      <td>7.119988e+17</td>\n",
       "      <td>1.000000</td>\n",
       "      <td>0.588230</td>\n",
       "      <td>1.181810e-01</td>\n",
       "      <td>4.944380e-02</td>\n",
       "    </tr>\n",
       "    <tr>\n",
       "      <th>75%</th>\n",
       "      <td>7.932034e+17</td>\n",
       "      <td>1.000000</td>\n",
       "      <td>0.843855</td>\n",
       "      <td>1.955655e-01</td>\n",
       "      <td>9.180755e-02</td>\n",
       "    </tr>\n",
       "    <tr>\n",
       "      <th>max</th>\n",
       "      <td>8.924206e+17</td>\n",
       "      <td>4.000000</td>\n",
       "      <td>1.000000</td>\n",
       "      <td>4.880140e-01</td>\n",
       "      <td>2.734190e-01</td>\n",
       "    </tr>\n",
       "  </tbody>\n",
       "</table>\n",
       "</div>"
      ],
      "text/plain": [
       "           tweet_id      img_num      p1_conf       p2_conf       p3_conf\n",
       "count  2.075000e+03  2075.000000  2075.000000  2.075000e+03  2.075000e+03\n",
       "mean   7.384514e+17     1.203855     0.594548  1.345886e-01  6.032417e-02\n",
       "std    6.785203e+16     0.561875     0.271174  1.006657e-01  5.090593e-02\n",
       "min    6.660209e+17     1.000000     0.044333  1.011300e-08  1.740170e-10\n",
       "25%    6.764835e+17     1.000000     0.364412  5.388625e-02  1.622240e-02\n",
       "50%    7.119988e+17     1.000000     0.588230  1.181810e-01  4.944380e-02\n",
       "75%    7.932034e+17     1.000000     0.843855  1.955655e-01  9.180755e-02\n",
       "max    8.924206e+17     4.000000     1.000000  4.880140e-01  2.734190e-01"
      ]
     },
     "execution_count": 26,
     "metadata": {},
     "output_type": "execute_result"
    }
   ],
   "source": [
    "image_prediction.describe()"
   ]
  },
  {
   "cell_type": "code",
   "execution_count": 28,
   "metadata": {},
   "outputs": [
    {
     "data": {
      "text/plain": [
       "66"
      ]
     },
     "execution_count": 28,
     "metadata": {},
     "output_type": "execute_result"
    }
   ],
   "source": [
    "image_prediction.jpg_url.duplicated().sum()"
   ]
  },
  {
   "cell_type": "code",
   "execution_count": 29,
   "metadata": {},
   "outputs": [
    {
     "data": {
      "text/plain": [
       "golden_retriever      150\n",
       "Labrador_retriever    100\n",
       "Pembroke               89\n",
       "Chihuahua              83\n",
       "pug                    57\n",
       "                     ... \n",
       "pillow                  1\n",
       "carousel                1\n",
       "bald_eagle              1\n",
       "lorikeet                1\n",
       "orange                  1\n",
       "Name: p1, Length: 378, dtype: int64"
      ]
     },
     "execution_count": 29,
     "metadata": {},
     "output_type": "execute_result"
    }
   ],
   "source": [
    "image_prediction.p1.value_counts()"
   ]
  },
  {
   "cell_type": "code",
   "execution_count": 27,
   "metadata": {},
   "outputs": [
    {
     "data": {
      "text/plain": [
       "0"
      ]
     },
     "execution_count": 27,
     "metadata": {},
     "output_type": "execute_result"
    }
   ],
   "source": [
    "image_prediction.tweet_id.duplicated().sum()"
   ]
  },
  {
   "cell_type": "code",
   "execution_count": 30,
   "metadata": {},
   "outputs": [
    {
     "data": {
      "text/plain": [
       "Labrador_retriever    104\n",
       "golden_retriever       92\n",
       "Cardigan               73\n",
       "Chihuahua              44\n",
       "Pomeranian             42\n",
       "                     ... \n",
       "medicine_chest          1\n",
       "quail                   1\n",
       "horse_cart              1\n",
       "waffle_iron             1\n",
       "bagel                   1\n",
       "Name: p2, Length: 405, dtype: int64"
      ]
     },
     "execution_count": 30,
     "metadata": {},
     "output_type": "execute_result"
    }
   ],
   "source": [
    "image_prediction.p2.value_counts()"
   ]
  },
  {
   "cell_type": "code",
   "execution_count": 31,
   "metadata": {},
   "outputs": [
    {
     "data": {
      "text/plain": [
       "Labrador_retriever    79\n",
       "Chihuahua             58\n",
       "golden_retriever      48\n",
       "Eskimo_dog            38\n",
       "kelpie                35\n",
       "                      ..\n",
       "ox                     1\n",
       "assault_rifle          1\n",
       "axolotl                1\n",
       "pot                    1\n",
       "banana                 1\n",
       "Name: p3, Length: 408, dtype: int64"
      ]
     },
     "execution_count": 31,
     "metadata": {},
     "output_type": "execute_result"
    }
   ],
   "source": [
    "image_prediction.p3.value_counts()"
   ]
  },
  {
   "cell_type": "markdown",
   "metadata": {},
   "source": [
    "\n",
    "Observations:\n",
    "\n",
    "Inconsistent capitalization in the p1, p2, and p3 columns. /\n",
    "\n",
    "Duplicate entries in the jpg_url. /\n",
    "\n",
    "Several entries do not represent dogs, such as \"jaguar,\" \"mailbox,\" \"peacock,\" \"cloak,\" etc. /\n",
    "\n",
    "Certain details should be incorporated into the twitter_archive table. /\n",
    "\n",
    "For this analysis, only the most confident prediction for the dog breed is necessary.\n",
    "\n",
    "\n",
    "\n",
    "\n",
    "\n"
   ]
  },
  {
   "cell_type": "markdown",
   "metadata": {},
   "source": [
    "# tweet_json table\n"
   ]
  },
  {
   "cell_type": "code",
   "execution_count": 32,
   "metadata": {},
   "outputs": [
    {
     "data": {
      "text/html": [
       "<div>\n",
       "<style scoped>\n",
       "    .dataframe tbody tr th:only-of-type {\n",
       "        vertical-align: middle;\n",
       "    }\n",
       "\n",
       "    .dataframe tbody tr th {\n",
       "        vertical-align: top;\n",
       "    }\n",
       "\n",
       "    .dataframe thead th {\n",
       "        text-align: right;\n",
       "    }\n",
       "</style>\n",
       "<table border=\"1\" class=\"dataframe\">\n",
       "  <thead>\n",
       "    <tr style=\"text-align: right;\">\n",
       "      <th></th>\n",
       "      <th>tweet_id</th>\n",
       "      <th>retweet_count</th>\n",
       "      <th>favorite_count</th>\n",
       "    </tr>\n",
       "  </thead>\n",
       "  <tbody>\n",
       "    <tr>\n",
       "      <th>0</th>\n",
       "      <td>892420643555336193</td>\n",
       "      <td>8853</td>\n",
       "      <td>39467</td>\n",
       "    </tr>\n",
       "    <tr>\n",
       "      <th>1</th>\n",
       "      <td>892177421306343426</td>\n",
       "      <td>6514</td>\n",
       "      <td>33819</td>\n",
       "    </tr>\n",
       "    <tr>\n",
       "      <th>2</th>\n",
       "      <td>891815181378084864</td>\n",
       "      <td>4328</td>\n",
       "      <td>25461</td>\n",
       "    </tr>\n",
       "    <tr>\n",
       "      <th>3</th>\n",
       "      <td>891689557279858688</td>\n",
       "      <td>8964</td>\n",
       "      <td>42908</td>\n",
       "    </tr>\n",
       "    <tr>\n",
       "      <th>4</th>\n",
       "      <td>891327558926688256</td>\n",
       "      <td>9774</td>\n",
       "      <td>41048</td>\n",
       "    </tr>\n",
       "    <tr>\n",
       "      <th>...</th>\n",
       "      <td>...</td>\n",
       "      <td>...</td>\n",
       "      <td>...</td>\n",
       "    </tr>\n",
       "    <tr>\n",
       "      <th>2349</th>\n",
       "      <td>666049248165822465</td>\n",
       "      <td>41</td>\n",
       "      <td>111</td>\n",
       "    </tr>\n",
       "    <tr>\n",
       "      <th>2350</th>\n",
       "      <td>666044226329800704</td>\n",
       "      <td>147</td>\n",
       "      <td>311</td>\n",
       "    </tr>\n",
       "    <tr>\n",
       "      <th>2351</th>\n",
       "      <td>666033412701032449</td>\n",
       "      <td>47</td>\n",
       "      <td>128</td>\n",
       "    </tr>\n",
       "    <tr>\n",
       "      <th>2352</th>\n",
       "      <td>666029285002620928</td>\n",
       "      <td>48</td>\n",
       "      <td>132</td>\n",
       "    </tr>\n",
       "    <tr>\n",
       "      <th>2353</th>\n",
       "      <td>666020888022790149</td>\n",
       "      <td>532</td>\n",
       "      <td>2535</td>\n",
       "    </tr>\n",
       "  </tbody>\n",
       "</table>\n",
       "<p>2354 rows × 3 columns</p>\n",
       "</div>"
      ],
      "text/plain": [
       "                tweet_id  retweet_count  favorite_count\n",
       "0     892420643555336193           8853           39467\n",
       "1     892177421306343426           6514           33819\n",
       "2     891815181378084864           4328           25461\n",
       "3     891689557279858688           8964           42908\n",
       "4     891327558926688256           9774           41048\n",
       "...                  ...            ...             ...\n",
       "2349  666049248165822465             41             111\n",
       "2350  666044226329800704            147             311\n",
       "2351  666033412701032449             47             128\n",
       "2352  666029285002620928             48             132\n",
       "2353  666020888022790149            532            2535\n",
       "\n",
       "[2354 rows x 3 columns]"
      ]
     },
     "execution_count": 32,
     "metadata": {},
     "output_type": "execute_result"
    }
   ],
   "source": [
    "tweet_json"
   ]
  },
  {
   "cell_type": "code",
   "execution_count": 33,
   "metadata": {},
   "outputs": [
    {
     "data": {
      "text/plain": [
       "0"
      ]
     },
     "execution_count": 33,
     "metadata": {},
     "output_type": "execute_result"
    }
   ],
   "source": [
    "tweet_json.duplicated().sum()\n"
   ]
  },
  {
   "cell_type": "code",
   "execution_count": 34,
   "metadata": {},
   "outputs": [
    {
     "name": "stdout",
     "output_type": "stream",
     "text": [
      "<class 'pandas.core.frame.DataFrame'>\n",
      "RangeIndex: 2354 entries, 0 to 2353\n",
      "Data columns (total 3 columns):\n",
      " #   Column          Non-Null Count  Dtype\n",
      "---  ------          --------------  -----\n",
      " 0   tweet_id        2354 non-null   int64\n",
      " 1   retweet_count   2354 non-null   int64\n",
      " 2   favorite_count  2354 non-null   int64\n",
      "dtypes: int64(3)\n",
      "memory usage: 55.3 KB\n"
     ]
    }
   ],
   "source": [
    "tweet_json.info()\n"
   ]
  },
  {
   "cell_type": "markdown",
   "metadata": {},
   "source": [
    "Observations:\n",
    "\n",
    "This information should be included in the twitter_archive table.\n",
    "\n",
    "The absence of data is likely attributed to retweets in the twitter_archive.\n",
    "\n",
    "\n",
    "\n",
    "\n",
    "\n",
    "\n",
    "\n"
   ]
  },
  {
   "cell_type": "markdown",
   "metadata": {},
   "source": [
    "# Observation Summary:\n"
   ]
  },
  {
   "cell_type": "markdown",
   "metadata": {},
   "source": [
    "Quality:\n",
    "\n",
    "twitter_archive table:\n",
    "\n",
    "1- Convert data types of in_reply_to_status_id, in_reply_to_user_id, retweeted_status_id, and retweeted_status_user_id from float to str.\n",
    "\n",
    "2- Retain only original ratings with pictures; remove entries related to retweets and replies, along with their corresponding columns. Address the picture part later.\n",
    "\n",
    "3- Convert the data type of timestamp from str to datetime and remove the \"+0000\" in the timestamp.\n",
    "\n",
    "4- Address abnormal values in rating_denominator (e.g., 170, 150, 130), noting that the denominator is typically 10.\n",
    "\n",
    "5- Address abnormal values in rating_numerator (e.g., 1776, 960, 666, 204, 165), which seem nonsensical.\n",
    "\n",
    "6- Eliminate redundant information in the source column to enhance readability.\n",
    "\n",
    "image_prediction table:\n",
    "7. Resolve inconsistent capitalization in the p1, p2, and p3 columns.\n",
    "\n",
    "8- Remove duplicate entries in the jpg_url.\n",
    "\n",
    "9- Identify and handle entries that do not represent dogs, such as \"jaguar,\" \"mailbox,\" \"peacock,\" \"cloak,\" etc.\n",
    "\n",
    "10- For this analysis, retain only the most confident prediction for the dog breed.\n",
    "\n",
    "tweet_json table:\n",
    "11. Address missing data, potentially due to retweets in the twitter_archive.\n",
    "\n",
    "Tidiness:\n",
    "\n",
    "twitter_archive:\n",
    "12. Consolidate the stages of the dog (doggo, floofer, pupper, puppo) into a single column.\n",
    "\n",
    "Combine the three tables into one since they all pertain to the same type of observational unit, adhering to tidy data requirements."
   ]
  },
  {
   "cell_type": "markdown",
   "metadata": {},
   "source": [
    "# IV.Cleaning Data"
   ]
  },
  {
   "cell_type": "markdown",
   "metadata": {},
   "source": [
    "The process of programmatic data cleaning involves the following steps:\n",
    "\n",
    "1- Define: Translate our assessments into clear and defined cleaning tasks.\n",
    "\n",
    "2- Code: Convert these defined tasks into code and execute the code to perform the cleaning operations.\n",
    "\n",
    "3- Test: Verify the dataset, either visually or using code, to ensure that the cleaning operations were successful."
   ]
  },
  {
   "cell_type": "code",
   "execution_count": 35,
   "metadata": {},
   "outputs": [],
   "source": [
    "# Make copys for all the data\n",
    "twitter_archive_clean = twitter_archive.copy()\n",
    "image_prediction_clean = image_prediction.copy()\n",
    "tweet_json_clean = tweet_json.copy()"
   ]
  },
  {
   "cell_type": "markdown",
   "metadata": {},
   "source": [
    "# quality issue"
   ]
  },
  {
   "cell_type": "markdown",
   "metadata": {},
   "source": [
    "# 1- twitter_archive: The data type for the timestamp should be datetime, and we need to remove the +0000.\n",
    "\n"
   ]
  },
  {
   "cell_type": "markdown",
   "metadata": {},
   "source": [
    "Define: Remove +0000 and use pd.to_datetime to convert the timestamp from str to datetime."
   ]
  },
  {
   "cell_type": "code",
   "execution_count": 49,
   "metadata": {},
   "outputs": [],
   "source": [
    "# Convert timestamp to datetime\n",
    "twitter_archive_clean['timestamp'] = pd.to_datetime(twitter_archive_clean['timestamp'], format='%Y-%m-%d %H:%M:%S')\n",
    "# Convert to datetime\n",
    "twitter_archive_clean.timestamp = pd.to_datetime(twitter_archive_clean.timestamp)\n"
   ]
  },
  {
   "cell_type": "code",
   "execution_count": 50,
   "metadata": {},
   "outputs": [
    {
     "data": {
      "text/plain": [
       "0   2015-11-19 22:00:00\n",
       "1   2015-11-19 23:00:00\n",
       "2   2015-11-20 00:00:00\n",
       "3   2015-11-20 00:00:00\n",
       "4   2015-11-20 01:00:00\n",
       "Name: timestamp, dtype: datetime64[ns]"
      ]
     },
     "execution_count": 50,
     "metadata": {},
     "output_type": "execute_result"
    }
   ],
   "source": [
    "twitter_archive_clean.timestamp.head()\n"
   ]
  },
  {
   "cell_type": "markdown",
   "metadata": {},
   "source": [
    "# 2- twitter_archive: The source information is redundant, and we aim to replace the long URL with different category names.\n"
   ]
  },
  {
   "cell_type": "markdown",
   "metadata": {},
   "source": [
    "Define: Utilize the replace function to substitute the URL with short category names.\n"
   ]
  },
  {
   "cell_type": "code",
   "execution_count": 51,
   "metadata": {},
   "outputs": [
    {
     "data": {
      "text/plain": [
       "Twitter for iPhone    1627\n",
       "Twitter Web Client      22\n",
       "TweetDeck                9\n",
       "Name: source, dtype: int64"
      ]
     },
     "execution_count": 51,
     "metadata": {},
     "output_type": "execute_result"
    }
   ],
   "source": [
    "twitter_archive_clean.source.value_counts()\n"
   ]
  },
  {
   "cell_type": "code",
   "execution_count": 56,
   "metadata": {},
   "outputs": [],
   "source": [
    "twitter_archive_clean.source = twitter_archive_clean.source.replace({'<a href=\"http://twitter.com/download/iphone\" rel=\"nofollow\">Twitter for iPhone</a>':'Twitter for iPhone',\n",
    "                                                                     '<a href=\"http://vine.co\" rel=\"nofollow\">Vine - Make a Scene</a>':'Vine - Make a Scene',\n",
    "                                                                     '<a href=\"http://twitter.com\" rel=\"nofollow\">Twitter Web Client</a>': 'Twitter Web Client',\n",
    "                                                                     '<a href=\"https://about.twitter.com/products/tweetdeck\" rel=\"nofollow\">TweetDeck</a>': 'TweetDeck'})\n"
   ]
  },
  {
   "cell_type": "code",
   "execution_count": 57,
   "metadata": {},
   "outputs": [
    {
     "data": {
      "text/plain": [
       "Twitter for iPhone    1627\n",
       "Twitter Web Client      22\n",
       "TweetDeck                9\n",
       "Name: source, dtype: int64"
      ]
     },
     "execution_count": 57,
     "metadata": {},
     "output_type": "execute_result"
    }
   ],
   "source": [
    "twitter_archive_clean.source.value_counts()"
   ]
  },
  {
   "cell_type": "markdown",
   "metadata": {},
   "source": [
    "# 3- image_prediction: Eliminate entries that do not represent dogs, aligning with the approach taken in the twitter_archive and tweet_json tables. Removing such entries will likely simplify the resolution of abnormal rating issues in rating_denominator and rating_numerator."
   ]
  },
  {
   "cell_type": "markdown",
   "metadata": {},
   "source": [
    "Define\n",
    "use isin and ~ to filter and delete rows that are False in p1_dog, p2_dog, p3_dog column in all three dataframes.\n",
    "\n",
    "Code"
   ]
  },
  {
   "cell_type": "code",
   "execution_count": 58,
   "metadata": {},
   "outputs": [
    {
     "name": "stdout",
     "output_type": "stream",
     "text": [
      "(2075, 12)\n",
      "(1658, 15)\n",
      "(2354, 3)\n"
     ]
    }
   ],
   "source": [
    "# Number of rows before data cleaning\n",
    "print(image_prediction_clean.shape)\n",
    "print(twitter_archive_clean.shape)\n",
    "print(tweet_json_clean.shape)"
   ]
  },
  {
   "cell_type": "code",
   "execution_count": 59,
   "metadata": {},
   "outputs": [],
   "source": [
    "# Filter posts that are not dogs and put those tweet_id into a drop_list\n",
    "image_prediction_clean.query('p1_dog == False and p2_dog == False and p3_dog == False').tweet_id\n",
    "drop_list = image_prediction_clean.query('p1_dog == False and p2_dog == False and p3_dog == False').tweet_id\n",
    "\n",
    "# Drop the rows with tweet_id in the drop_list in all dataframes\n",
    "image_prediction_clean = image_prediction_clean[~image_prediction_clean.tweet_id.isin(drop_list)]\n",
    "twitter_archive_clean = twitter_archive_clean[~twitter_archive_clean.tweet_id.isin(drop_list)]\n",
    "tweet_json_clean = tweet_json_clean[~tweet_json_clean.tweet_id.isin(drop_list)]"
   ]
  },
  {
   "cell_type": "code",
   "execution_count": 60,
   "metadata": {},
   "outputs": [
    {
     "name": "stdout",
     "output_type": "stream",
     "text": [
      "(1751, 12)\n",
      "(1658, 15)\n",
      "(2031, 3)\n"
     ]
    }
   ],
   "source": [
    "# Number of rows after data cleaning\n",
    "print(image_prediction_clean.shape)\n",
    "print(twitter_archive_clean.shape)\n",
    "print(tweet_json_clean.shape)"
   ]
  },
  {
   "cell_type": "markdown",
   "metadata": {},
   "source": [
    "# 4- twitter_archive: abnormal values in rating_denominator. According to the project overview, the ratings almost always have a denominator of 10. Many abnormal rating values were gone after removing ratings not for dogs, making it easier to fix abnormal rating. After investigating further, I found that tweets with denominator not equal to 10 are usually multiple dogs."
   ]
  },
  {
   "cell_type": "markdown",
   "metadata": {},
   "source": [
    "Define\n",
    "Create new dataframe with tweet_id, text, rating_numerator, rating_denominator columns. Filter rating_denominator not equal to 10 and check the text to correct these ratings.\n",
    "\n",
    "Code"
   ]
  },
  {
   "cell_type": "code",
   "execution_count": 61,
   "metadata": {},
   "outputs": [
    {
     "name": "stderr",
     "output_type": "stream",
     "text": [
      "/tmp/ipykernel_14/3876868124.py:8: FutureWarning: Passing a negative integer is deprecated in version 1.0 and will not be supported in future version. Instead, use None to not limit the column width.\n",
      "  pd.set_option('display.max_colwidth', -1)\n"
     ]
    },
    {
     "data": {
      "text/html": [
       "<div>\n",
       "<style scoped>\n",
       "    .dataframe tbody tr th:only-of-type {\n",
       "        vertical-align: middle;\n",
       "    }\n",
       "\n",
       "    .dataframe tbody tr th {\n",
       "        vertical-align: top;\n",
       "    }\n",
       "\n",
       "    .dataframe thead th {\n",
       "        text-align: right;\n",
       "    }\n",
       "</style>\n",
       "<table border=\"1\" class=\"dataframe\">\n",
       "  <thead>\n",
       "    <tr style=\"text-align: right;\">\n",
       "      <th></th>\n",
       "      <th>tweet_id</th>\n",
       "      <th>text</th>\n",
       "      <th>rating_numerator</th>\n",
       "      <th>rating_denominator</th>\n",
       "    </tr>\n",
       "  </thead>\n",
       "  <tbody>\n",
       "  </tbody>\n",
       "</table>\n",
       "</div>"
      ],
      "text/plain": [
       "Empty DataFrame\n",
       "Columns: [tweet_id, text, rating_numerator, rating_denominator]\n",
       "Index: []"
      ]
     },
     "execution_count": 61,
     "metadata": {},
     "output_type": "execute_result"
    }
   ],
   "source": [
    "# Create new dataframe with selected columns\n",
    "df_abnormal_rating = twitter_archive_clean[['tweet_id', 'text', 'rating_numerator', 'rating_denominator']]\n",
    "\n",
    "# Filter rating_denominator not equal to 10\n",
    "df_abnormal_denominator = df_abnormal_rating.query('rating_denominator != 10')\n",
    "\n",
    "# Display full text\n",
    "pd.set_option('display.max_colwidth', -1)\n",
    "\n",
    "df_abnormal_denominator\n"
   ]
  },
  {
   "cell_type": "code",
   "execution_count": 62,
   "metadata": {},
   "outputs": [],
   "source": [
    "# Correct ratings by reading through the text, most of the abnormal ratings are associated with multiple dogs.\n",
    "# tweet_id: 666287406224695296\n",
    "twitter_archive_clean.loc[twitter_archive_clean.tweet_id == 666287406224695296, 'rating_numerator'] = 9\n",
    "twitter_archive_clean.loc[twitter_archive_clean.tweet_id == 666287406224695296, 'rating_denominator'] = 10\n",
    "# tweet_id: 697463031882764288 --- Multiple dogs\n",
    "twitter_archive_clean.loc[twitter_archive_clean.tweet_id == 697463031882764288, 'rating_numerator'] = 11\n",
    "twitter_archive_clean.loc[twitter_archive_clean.tweet_id == 697463031882764288, 'rating_denominator'] = 10\n",
    "# tweet_id: 684222868335505415 --- Multiple dogs\n",
    "twitter_archive_clean.loc[twitter_archive_clean.tweet_id == 684222868335505415, 'rating_numerator'] = 11\n",
    "twitter_archive_clean.loc[twitter_archive_clean.tweet_id == 684222868335505415, 'rating_denominator'] = 10\n",
    "# tweet_id: 682962037429899265 \n",
    "twitter_archive_clean.loc[twitter_archive_clean.tweet_id == 682962037429899265, 'rating_numerator'] = 10\n",
    "twitter_archive_clean.loc[twitter_archive_clean.tweet_id == 682962037429899265, 'rating_denominator'] = 10\n",
    "# tweet_id: 710658690886586372 --- Multiple dogs\n",
    "twitter_archive_clean.loc[twitter_archive_clean.tweet_id == 710658690886586372, 'rating_numerator'] = 10\n",
    "twitter_archive_clean.loc[twitter_archive_clean.tweet_id == 710658690886586372, 'rating_denominator'] = 10\n",
    "# tweet_id: 713900603437621249 --- Multiple dogs\n",
    "twitter_archive_clean.loc[twitter_archive_clean.tweet_id == 713900603437621249, 'rating_numerator'] = 11\n",
    "twitter_archive_clean.loc[twitter_archive_clean.tweet_id == 713900603437621249, 'rating_denominator'] = 10\n",
    "# tweet_id: 709198395643068416 --- Multiple dogs\n",
    "twitter_archive_clean.loc[twitter_archive_clean.tweet_id == 709198395643068416, 'rating_numerator'] = 9\n",
    "twitter_archive_clean.loc[twitter_archive_clean.tweet_id == 709198395643068416, 'rating_denominator'] = 10\n",
    "# tweet_id: 722974582966214656 \n",
    "twitter_archive_clean.loc[twitter_archive_clean.tweet_id == 722974582966214656, 'rating_numerator'] = 13\n",
    "twitter_archive_clean.loc[twitter_archive_clean.tweet_id == 722974582966214656, 'rating_denominator'] = 10\n",
    "# tweet_id: 716439118184652801\n",
    "twitter_archive_clean.loc[twitter_archive_clean.tweet_id == 716439118184652801, 'rating_numerator'] = 11\n",
    "twitter_archive_clean.loc[twitter_archive_clean.tweet_id == 716439118184652801, 'rating_denominator'] = 10\n",
    "# tweet_id: 704054845121142784 --- Multiple dogs\n",
    "twitter_archive_clean.loc[twitter_archive_clean.tweet_id == 704054845121142784, 'rating_numerator'] = 12\n",
    "twitter_archive_clean.loc[twitter_archive_clean.tweet_id == 704054845121142784, 'rating_denominator'] = 10\n",
    "# tweet_id: 677716515794329600 --- Multiple dogs\n",
    "twitter_archive_clean.loc[twitter_archive_clean.tweet_id == 677716515794329600, 'rating_numerator'] = 12\n",
    "twitter_archive_clean.loc[twitter_archive_clean.tweet_id == 677716515794329600, 'rating_denominator'] = 10\n",
    "# tweet_id: 675853064436391936 --- Multiple dogs\n",
    "twitter_archive_clean.loc[twitter_archive_clean.tweet_id == 675853064436391936, 'rating_numerator'] = 11\n",
    "twitter_archive_clean.loc[twitter_archive_clean.tweet_id == 675853064436391936, 'rating_denominator'] = 10\n",
    "# tweet_id: 810984652412424192  no rating\n",
    "twitter_archive_clean.loc[twitter_archive_clean.tweet_id == 810984652412424192, 'rating_numerator'] = 10\n",
    "twitter_archive_clean.loc[twitter_archive_clean.tweet_id == 810984652412424192, 'rating_denominator'] = 10\n",
    "# tweet_id: 820690176645140481 --- Multiple dogs\n",
    "twitter_archive_clean.loc[twitter_archive_clean.tweet_id == 820690176645140481, 'rating_numerator'] = 12\n",
    "twitter_archive_clean.loc[twitter_archive_clean.tweet_id == 820690176645140481, 'rating_denominator'] = 10\n",
    "# tweet_id: 731156023742988288 --- Multiple dogs\n",
    "twitter_archive_clean.loc[twitter_archive_clean.tweet_id == 731156023742988288, 'rating_numerator'] = 12\n",
    "twitter_archive_clean.loc[twitter_archive_clean.tweet_id == 731156023742988288, 'rating_denominator'] = 10\n",
    "# tweet_id: 758467244762497024 --- Multiple dogs\n",
    "twitter_archive_clean.loc[twitter_archive_clean.tweet_id == 758467244762497024, 'rating_numerator'] = 11\n",
    "twitter_archive_clean.loc[twitter_archive_clean.tweet_id == 758467244762497024, 'rating_denominator'] = 10\n",
    "# tweet_id: 740373189193256964\n",
    "twitter_archive_clean.loc[twitter_archive_clean.tweet_id == 740373189193256964, 'rating_numerator'] = 14\n",
    "twitter_archive_clean.loc[twitter_archive_clean.tweet_id == 740373189193256964, 'rating_denominator'] = 10"
   ]
  },
  {
   "cell_type": "code",
   "execution_count": 63,
   "metadata": {},
   "outputs": [
    {
     "data": {
      "text/plain": [
       "10    1658\n",
       "Name: rating_denominator, dtype: int64"
      ]
     },
     "execution_count": 63,
     "metadata": {},
     "output_type": "execute_result"
    }
   ],
   "source": [
    "twitter_archive_clean.rating_denominator.value_counts()"
   ]
  },
  {
   "cell_type": "markdown",
   "metadata": {},
   "source": [
    "# 5- twitter_archive: Address abnormal values in rating_numerator. The removal of ratings not pertaining to dogs has resulted in the elimination of many abnormal rating values.\n"
   ]
  },
  {
   "cell_type": "markdown",
   "metadata": {},
   "source": [
    "Define\n",
    "Use value_counts to see abnormal values and check the text to correct the ratings.\n",
    "Use isin and ~ to remove entires that are not dogs\n",
    "Code"
   ]
  },
  {
   "cell_type": "code",
   "execution_count": 64,
   "metadata": {},
   "outputs": [
    {
     "data": {
      "text/plain": [
       "12.00    424\n",
       "10.00    361\n",
       "11.00    359\n",
       "13.00    222\n",
       "9.00     133\n",
       "8.00     68 \n",
       "7.00     31 \n",
       "14.00    22 \n",
       "6.00     16 \n",
       "5.00     13 \n",
       "2.00     2  \n",
       "3.00     2  \n",
       "13.50    1  \n",
       "11.26    1  \n",
       "9.75     1  \n",
       "4.00     1  \n",
       "11.27    1  \n",
       "Name: rating_numerator, dtype: int64"
      ]
     },
     "execution_count": 64,
     "metadata": {},
     "output_type": "execute_result"
    }
   ],
   "source": [
    "twitter_archive_clean.rating_numerator.value_counts()"
   ]
  },
  {
   "cell_type": "code",
   "execution_count": 65,
   "metadata": {},
   "outputs": [
    {
     "data": {
      "text/html": [
       "<div>\n",
       "<style scoped>\n",
       "    .dataframe tbody tr th:only-of-type {\n",
       "        vertical-align: middle;\n",
       "    }\n",
       "\n",
       "    .dataframe tbody tr th {\n",
       "        vertical-align: top;\n",
       "    }\n",
       "\n",
       "    .dataframe thead th {\n",
       "        text-align: right;\n",
       "    }\n",
       "</style>\n",
       "<table border=\"1\" class=\"dataframe\">\n",
       "  <thead>\n",
       "    <tr style=\"text-align: right;\">\n",
       "      <th></th>\n",
       "      <th>tweet_id</th>\n",
       "      <th>text</th>\n",
       "      <th>rating_numerator</th>\n",
       "      <th>rating_denominator</th>\n",
       "    </tr>\n",
       "  </thead>\n",
       "  <tbody>\n",
       "  </tbody>\n",
       "</table>\n",
       "</div>"
      ],
      "text/plain": [
       "Empty DataFrame\n",
       "Columns: [tweet_id, text, rating_numerator, rating_denominator]\n",
       "Index: []"
      ]
     },
     "execution_count": 65,
     "metadata": {},
     "output_type": "execute_result"
    }
   ],
   "source": [
    "# rating_numerator 75, 26, 27, 0\n",
    "df_abnormal_rating.query('rating_numerator == 75 or rating_numerator == 26 or rating_numerator == 27 or rating_numerator == 0')\n"
   ]
  },
  {
   "cell_type": "code",
   "execution_count": 66,
   "metadata": {},
   "outputs": [],
   "source": [
    "# Correct the ratings\n",
    "# tweet_id: 786709082849828864, rating _numberator should be 9.75 according to the text\n",
    "twitter_archive_clean.loc[twitter_archive_clean.tweet_id == 786709082849828864, 'rating_numerator'] = 9.75\n",
    "# tweet_id: 680494726643068929, rating _numberator should be 11.26 according to the text\n",
    "twitter_archive_clean.loc[twitter_archive_clean.tweet_id == 680494726643068929, 'rating_numerator'] = 11.26\n",
    "# tweet_id: 778027034220126208, rating _numberator should be 11.27 according to the text\n",
    "twitter_archive_clean.loc[twitter_archive_clean.tweet_id == 778027034220126208, 'rating_numerator'] = 11.27\n",
    "# tweet_id: 835152434251116546\n",
    "twitter_archive_clean.loc[twitter_archive_clean.tweet_id == 835152434251116546, 'rating_numerator'] = 11\n",
    "# tweet_id: 883482846933004288\n",
    "twitter_archive_clean.loc[twitter_archive_clean.tweet_id == 883482846933004288, 'rating_numerator'] = 13.5"
   ]
  },
  {
   "cell_type": "code",
   "execution_count": 67,
   "metadata": {},
   "outputs": [
    {
     "data": {
      "text/html": [
       "<div>\n",
       "<style scoped>\n",
       "    .dataframe tbody tr th:only-of-type {\n",
       "        vertical-align: middle;\n",
       "    }\n",
       "\n",
       "    .dataframe tbody tr th {\n",
       "        vertical-align: top;\n",
       "    }\n",
       "\n",
       "    .dataframe thead th {\n",
       "        text-align: right;\n",
       "    }\n",
       "</style>\n",
       "<table border=\"1\" class=\"dataframe\">\n",
       "  <thead>\n",
       "    <tr style=\"text-align: right;\">\n",
       "      <th></th>\n",
       "      <th>tweet_id</th>\n",
       "      <th>text</th>\n",
       "      <th>rating_numerator</th>\n",
       "      <th>rating_denominator</th>\n",
       "    </tr>\n",
       "  </thead>\n",
       "  <tbody>\n",
       "    <tr>\n",
       "      <th>456</th>\n",
       "      <td>711306686208872448</td>\n",
       "      <td>What hooligan sent in pictures w/out a dog in them? Churlish af. 3/10 just bc that's a neat fluffy bean bag chair https://t.co/wcwoGOkZvz</td>\n",
       "      <td>3.0</td>\n",
       "      <td>10</td>\n",
       "    </tr>\n",
       "    <tr>\n",
       "      <th>629</th>\n",
       "      <td>668989615043424256</td>\n",
       "      <td>This is Bernie. He's taking his Halloween costume very seriously. Wants to be baked. 3/10 not a good idea Bernie smh https://t.co/1zBp1moFlX</td>\n",
       "      <td>3.0</td>\n",
       "      <td>10</td>\n",
       "    </tr>\n",
       "    <tr>\n",
       "      <th>1137</th>\n",
       "      <td>747816857231626240</td>\n",
       "      <td>Viewer discretion is advised. This is a terrible attack in progress. Not even in water (tragic af). 4/10 bad sherk https://t.co/L3U0j14N5R</td>\n",
       "      <td>4.0</td>\n",
       "      <td>10</td>\n",
       "    </tr>\n",
       "  </tbody>\n",
       "</table>\n",
       "</div>"
      ],
      "text/plain": [
       "                tweet_id  \\\n",
       "456   711306686208872448   \n",
       "629   668989615043424256   \n",
       "1137  747816857231626240   \n",
       "\n",
       "                                                                                                                                              text  \\\n",
       "456   What hooligan sent in pictures w/out a dog in them? Churlish af. 3/10 just bc that's a neat fluffy bean bag chair https://t.co/wcwoGOkZvz      \n",
       "629   This is Bernie. He's taking his Halloween costume very seriously. Wants to be baked. 3/10 not a good idea Bernie smh https://t.co/1zBp1moFlX   \n",
       "1137  Viewer discretion is advised. This is a terrible attack in progress. Not even in water (tragic af). 4/10 bad sherk https://t.co/L3U0j14N5R     \n",
       "\n",
       "      rating_numerator  rating_denominator  \n",
       "456   3.0               10                  \n",
       "629   3.0               10                  \n",
       "1137  4.0               10                  "
      ]
     },
     "execution_count": 67,
     "metadata": {},
     "output_type": "execute_result"
    }
   ],
   "source": [
    "# rating_numerator 3 and 4\n",
    "df_abnormal_rating.query('rating_numerator == 3 or rating_numerator == 4')"
   ]
  },
  {
   "cell_type": "markdown",
   "metadata": {},
   "source": [
    "rating_numerator = 3, not dog, delete\n",
    "\n",
    "777885040357281792:\n",
    "718246886998687744:\n",
    "673906403526995968:\n",
    "rating_numerator = 4, not dog, delete\n",
    "\n",
    "707420581654872064\n",
    "680940246314430465\n",
    "671122204919246848\n",
    "667176164155375616\n",
    "666649482315059201"
   ]
  },
  {
   "cell_type": "code",
   "execution_count": 68,
   "metadata": {},
   "outputs": [],
   "source": [
    "# Remove entries that are not dogs\n",
    "id_list = [777885040357281792, 718246886998687744, 673906403526995968, 707420581654872064, 680940246314430465, 671122204919246848, 667176164155375616, 666649482315059201]\n",
    "twitter_archive_clean = twitter_archive_clean[~twitter_archive_clean.tweet_id.isin(id_list)]"
   ]
  },
  {
   "cell_type": "code",
   "execution_count": 69,
   "metadata": {},
   "outputs": [
    {
     "data": {
      "text/plain": [
       "12.00    424\n",
       "10.00    361\n",
       "11.00    359\n",
       "13.00    222\n",
       "9.00     133\n",
       "8.00     68 \n",
       "7.00     31 \n",
       "14.00    22 \n",
       "6.00     16 \n",
       "5.00     13 \n",
       "2.00     2  \n",
       "3.00     2  \n",
       "13.50    1  \n",
       "11.26    1  \n",
       "9.75     1  \n",
       "4.00     1  \n",
       "11.27    1  \n",
       "Name: rating_numerator, dtype: int64"
      ]
     },
     "execution_count": 69,
     "metadata": {},
     "output_type": "execute_result"
    }
   ],
   "source": [
    "twitter_archive_clean.rating_numerator.value_counts()"
   ]
  },
  {
   "cell_type": "markdown",
   "metadata": {},
   "source": [
    "# 6- image_prediction: For our analysis, we only require the most confident prediction from the image predictions.\n",
    "\n",
    "\n",
    "\n",
    "\n",
    "\n",
    "\n"
   ]
  },
  {
   "cell_type": "markdown",
   "metadata": {},
   "source": [
    "Define\n",
    "Create two columns breed, confident_level\n",
    "Create a function to look through the preditions and find the most confident prediction that is a dog breed. p1 is the most confident prediction, followed by p2 and p3\n",
    "Remove other columns not needed."
   ]
  },
  {
   "cell_type": "code",
   "execution_count": 70,
   "metadata": {},
   "outputs": [],
   "source": [
    "# Create a breed column and a confident_level column\n",
    "breed = []\n",
    "confident_level = []\n",
    "\n",
    "# Create a function to find the most confident prediction that is a dog breed\n",
    "# p1 is the most confident prediction, followed by p2 and p3\n",
    "def image_pred(image_prediction_clean):\n",
    "    if image_prediction_clean.p1_dog == True:\n",
    "        breed.append(image_prediction_clean.p1)\n",
    "        confident_level.append(image_prediction_clean.p1_conf)\n",
    "    elif image_prediction_clean.p2_dog == True:\n",
    "        breed.append(image_prediction_clean.p2)\n",
    "        confident_level.append(image_prediction_clean.p2_conf)\n",
    "    elif image_prediction_clean.p3_dog == True:\n",
    "        breed.append(image_prediction_clean.p3)\n",
    "        confident_level.append(image_prediction_clean.p3_conf)\n",
    "    else:\n",
    "        breed.append('Unknown_breed')\n",
    "        confident_level.append(0)\n",
    "        \n",
    "# Apply the function by column        \n",
    "image_prediction_clean.apply(image_pred, axis=1)\n",
    "\n",
    "# Add the breed and confident_level column to image_prediction_clean \n",
    "image_prediction_clean['breed'] = breed\n",
    "image_prediction_clean['confident_level'] = confident_level\n",
    "\n",
    "# Drop columns no longer needed\n",
    "image_prediction_clean = image_prediction_clean.drop(['img_num',\n",
    "                                                      'p1','p1_conf','p1_dog',\n",
    "                                                      'p2','p2_conf','p2_dog',\n",
    "                                                      'p3','p3_conf','p3_dog'],axis=1)"
   ]
  },
  {
   "cell_type": "code",
   "execution_count": 71,
   "metadata": {},
   "outputs": [
    {
     "data": {
      "text/html": [
       "<div>\n",
       "<style scoped>\n",
       "    .dataframe tbody tr th:only-of-type {\n",
       "        vertical-align: middle;\n",
       "    }\n",
       "\n",
       "    .dataframe tbody tr th {\n",
       "        vertical-align: top;\n",
       "    }\n",
       "\n",
       "    .dataframe thead th {\n",
       "        text-align: right;\n",
       "    }\n",
       "</style>\n",
       "<table border=\"1\" class=\"dataframe\">\n",
       "  <thead>\n",
       "    <tr style=\"text-align: right;\">\n",
       "      <th></th>\n",
       "      <th>tweet_id</th>\n",
       "      <th>jpg_url</th>\n",
       "      <th>breed</th>\n",
       "      <th>confident_level</th>\n",
       "    </tr>\n",
       "  </thead>\n",
       "  <tbody>\n",
       "    <tr>\n",
       "      <th>0</th>\n",
       "      <td>666020888022790149</td>\n",
       "      <td>https://pbs.twimg.com/media/CT4udn0WwAA0aMy.jpg</td>\n",
       "      <td>Welsh_springer_spaniel</td>\n",
       "      <td>0.465074</td>\n",
       "    </tr>\n",
       "    <tr>\n",
       "      <th>1</th>\n",
       "      <td>666029285002620928</td>\n",
       "      <td>https://pbs.twimg.com/media/CT42GRgUYAA5iDo.jpg</td>\n",
       "      <td>redbone</td>\n",
       "      <td>0.506826</td>\n",
       "    </tr>\n",
       "    <tr>\n",
       "      <th>2</th>\n",
       "      <td>666033412701032449</td>\n",
       "      <td>https://pbs.twimg.com/media/CT4521TWwAEvMyu.jpg</td>\n",
       "      <td>German_shepherd</td>\n",
       "      <td>0.596461</td>\n",
       "    </tr>\n",
       "    <tr>\n",
       "      <th>3</th>\n",
       "      <td>666044226329800704</td>\n",
       "      <td>https://pbs.twimg.com/media/CT5Dr8HUEAA-lEu.jpg</td>\n",
       "      <td>Rhodesian_ridgeback</td>\n",
       "      <td>0.408143</td>\n",
       "    </tr>\n",
       "    <tr>\n",
       "      <th>4</th>\n",
       "      <td>666049248165822465</td>\n",
       "      <td>https://pbs.twimg.com/media/CT5IQmsXIAAKY4A.jpg</td>\n",
       "      <td>miniature_pinscher</td>\n",
       "      <td>0.560311</td>\n",
       "    </tr>\n",
       "  </tbody>\n",
       "</table>\n",
       "</div>"
      ],
      "text/plain": [
       "             tweet_id                                          jpg_url  \\\n",
       "0  666020888022790149  https://pbs.twimg.com/media/CT4udn0WwAA0aMy.jpg   \n",
       "1  666029285002620928  https://pbs.twimg.com/media/CT42GRgUYAA5iDo.jpg   \n",
       "2  666033412701032449  https://pbs.twimg.com/media/CT4521TWwAEvMyu.jpg   \n",
       "3  666044226329800704  https://pbs.twimg.com/media/CT5Dr8HUEAA-lEu.jpg   \n",
       "4  666049248165822465  https://pbs.twimg.com/media/CT5IQmsXIAAKY4A.jpg   \n",
       "\n",
       "                    breed  confident_level  \n",
       "0  Welsh_springer_spaniel  0.465074         \n",
       "1  redbone                 0.506826         \n",
       "2  German_shepherd         0.596461         \n",
       "3  Rhodesian_ridgeback     0.408143         \n",
       "4  miniature_pinscher      0.560311         "
      ]
     },
     "execution_count": 71,
     "metadata": {},
     "output_type": "execute_result"
    }
   ],
   "source": [
    "image_prediction_clean.head()"
   ]
  },
  {
   "cell_type": "markdown",
   "metadata": {},
   "source": [
    "# 7- image_prediction: inconsistent capitalization in p1 column"
   ]
  },
  {
   "cell_type": "markdown",
   "metadata": {},
   "source": [
    "Define\n",
    "Use str.capitalize to capitalize the first letter\n",
    "\n",
    "Code"
   ]
  },
  {
   "cell_type": "code",
   "execution_count": 72,
   "metadata": {},
   "outputs": [],
   "source": [
    "image_prediction_clean.breed = image_prediction_clean.breed.str.capitalize()"
   ]
  },
  {
   "cell_type": "code",
   "execution_count": 73,
   "metadata": {},
   "outputs": [
    {
     "data": {
      "text/html": [
       "<div>\n",
       "<style scoped>\n",
       "    .dataframe tbody tr th:only-of-type {\n",
       "        vertical-align: middle;\n",
       "    }\n",
       "\n",
       "    .dataframe tbody tr th {\n",
       "        vertical-align: top;\n",
       "    }\n",
       "\n",
       "    .dataframe thead th {\n",
       "        text-align: right;\n",
       "    }\n",
       "</style>\n",
       "<table border=\"1\" class=\"dataframe\">\n",
       "  <thead>\n",
       "    <tr style=\"text-align: right;\">\n",
       "      <th></th>\n",
       "      <th>tweet_id</th>\n",
       "      <th>jpg_url</th>\n",
       "      <th>breed</th>\n",
       "      <th>confident_level</th>\n",
       "    </tr>\n",
       "  </thead>\n",
       "  <tbody>\n",
       "    <tr>\n",
       "      <th>0</th>\n",
       "      <td>666020888022790149</td>\n",
       "      <td>https://pbs.twimg.com/media/CT4udn0WwAA0aMy.jpg</td>\n",
       "      <td>Welsh_springer_spaniel</td>\n",
       "      <td>0.465074</td>\n",
       "    </tr>\n",
       "    <tr>\n",
       "      <th>1</th>\n",
       "      <td>666029285002620928</td>\n",
       "      <td>https://pbs.twimg.com/media/CT42GRgUYAA5iDo.jpg</td>\n",
       "      <td>Redbone</td>\n",
       "      <td>0.506826</td>\n",
       "    </tr>\n",
       "    <tr>\n",
       "      <th>2</th>\n",
       "      <td>666033412701032449</td>\n",
       "      <td>https://pbs.twimg.com/media/CT4521TWwAEvMyu.jpg</td>\n",
       "      <td>German_shepherd</td>\n",
       "      <td>0.596461</td>\n",
       "    </tr>\n",
       "    <tr>\n",
       "      <th>3</th>\n",
       "      <td>666044226329800704</td>\n",
       "      <td>https://pbs.twimg.com/media/CT5Dr8HUEAA-lEu.jpg</td>\n",
       "      <td>Rhodesian_ridgeback</td>\n",
       "      <td>0.408143</td>\n",
       "    </tr>\n",
       "    <tr>\n",
       "      <th>4</th>\n",
       "      <td>666049248165822465</td>\n",
       "      <td>https://pbs.twimg.com/media/CT5IQmsXIAAKY4A.jpg</td>\n",
       "      <td>Miniature_pinscher</td>\n",
       "      <td>0.560311</td>\n",
       "    </tr>\n",
       "    <tr>\n",
       "      <th>5</th>\n",
       "      <td>666050758794694657</td>\n",
       "      <td>https://pbs.twimg.com/media/CT5Jof1WUAEuVxN.jpg</td>\n",
       "      <td>Bernese_mountain_dog</td>\n",
       "      <td>0.651137</td>\n",
       "    </tr>\n",
       "    <tr>\n",
       "      <th>7</th>\n",
       "      <td>666055525042405380</td>\n",
       "      <td>https://pbs.twimg.com/media/CT5N9tpXIAAifs1.jpg</td>\n",
       "      <td>Chow</td>\n",
       "      <td>0.692517</td>\n",
       "    </tr>\n",
       "    <tr>\n",
       "      <th>8</th>\n",
       "      <td>666057090499244032</td>\n",
       "      <td>https://pbs.twimg.com/media/CT5PY90WoAAQGLo.jpg</td>\n",
       "      <td>Golden_retriever</td>\n",
       "      <td>0.007959</td>\n",
       "    </tr>\n",
       "    <tr>\n",
       "      <th>9</th>\n",
       "      <td>666058600524156928</td>\n",
       "      <td>https://pbs.twimg.com/media/CT5Qw94XAAA_2dP.jpg</td>\n",
       "      <td>Miniature_poodle</td>\n",
       "      <td>0.201493</td>\n",
       "    </tr>\n",
       "    <tr>\n",
       "      <th>10</th>\n",
       "      <td>666063827256086533</td>\n",
       "      <td>https://pbs.twimg.com/media/CT5Vg_wXIAAXfnj.jpg</td>\n",
       "      <td>Golden_retriever</td>\n",
       "      <td>0.775930</td>\n",
       "    </tr>\n",
       "  </tbody>\n",
       "</table>\n",
       "</div>"
      ],
      "text/plain": [
       "              tweet_id                                          jpg_url  \\\n",
       "0   666020888022790149  https://pbs.twimg.com/media/CT4udn0WwAA0aMy.jpg   \n",
       "1   666029285002620928  https://pbs.twimg.com/media/CT42GRgUYAA5iDo.jpg   \n",
       "2   666033412701032449  https://pbs.twimg.com/media/CT4521TWwAEvMyu.jpg   \n",
       "3   666044226329800704  https://pbs.twimg.com/media/CT5Dr8HUEAA-lEu.jpg   \n",
       "4   666049248165822465  https://pbs.twimg.com/media/CT5IQmsXIAAKY4A.jpg   \n",
       "5   666050758794694657  https://pbs.twimg.com/media/CT5Jof1WUAEuVxN.jpg   \n",
       "7   666055525042405380  https://pbs.twimg.com/media/CT5N9tpXIAAifs1.jpg   \n",
       "8   666057090499244032  https://pbs.twimg.com/media/CT5PY90WoAAQGLo.jpg   \n",
       "9   666058600524156928  https://pbs.twimg.com/media/CT5Qw94XAAA_2dP.jpg   \n",
       "10  666063827256086533  https://pbs.twimg.com/media/CT5Vg_wXIAAXfnj.jpg   \n",
       "\n",
       "                     breed  confident_level  \n",
       "0   Welsh_springer_spaniel  0.465074         \n",
       "1   Redbone                 0.506826         \n",
       "2   German_shepherd         0.596461         \n",
       "3   Rhodesian_ridgeback     0.408143         \n",
       "4   Miniature_pinscher      0.560311         \n",
       "5   Bernese_mountain_dog    0.651137         \n",
       "7   Chow                    0.692517         \n",
       "8   Golden_retriever        0.007959         \n",
       "9   Miniature_poodle        0.201493         \n",
       "10  Golden_retriever        0.775930         "
      ]
     },
     "execution_count": 73,
     "metadata": {},
     "output_type": "execute_result"
    }
   ],
   "source": [
    "image_prediction_clean.head(10)"
   ]
  },
  {
   "cell_type": "markdown",
   "metadata": {
    "id": "lXhGiYyiwwKN"
   },
   "source": [
    "### Tidiness Issue 1:"
   ]
  },
  {
   "cell_type": "markdown",
   "metadata": {
    "id": "fleC5rORI0Xl"
   },
   "source": [
    "# 1. twitter_archive: The dog stages (doggo, floofer, pupper, puppo) should be combined into a single column.\n",
    "\n",
    "\n",
    "\n",
    "\n",
    "\n",
    "\n"
   ]
  },
  {
   "cell_type": "markdown",
   "metadata": {
    "id": "BTuQw7Rbsio4"
   },
   "source": [
    "Define\n",
    "Use pd.melt to melt the doggo, floofer, pupper and puppo columns to a type and dog_stage column. Drop the intermediate column.\n",
    "\n",
    "Code"
   ]
  },
  {
   "cell_type": "code",
   "execution_count": 76,
   "metadata": {},
   "outputs": [
    {
     "name": "stdout",
     "output_type": "stream",
     "text": [
      "One or more dog stages columns are missing.\n"
     ]
    }
   ],
   "source": [
    "# Check if the columns exist before melting\n",
    "if all(col in twitter_archive_clean.columns for col in ['doggo', 'floofer', 'pupper', 'puppo']):\n",
    "    # Melt the dog stages columns\n",
    "    twitter_archive_clean = pd.melt(twitter_archive_clean, \n",
    "                                    id_vars=['tweet_id', 'timestamp', 'source', 'text', 'expanded_urls', 'rating_numerator', 'rating_denominator', 'name'],\n",
    "                                    value_vars=['doggo', 'floofer', 'pupper', 'puppo'], \n",
    "                                    var_name='type', \n",
    "                                    value_name='dog_stage')\n",
    "\n",
    "    # Drop the 'type' column\n",
    "    twitter_archive_clean.drop('type', axis=1, inplace=True)\n",
    "\n",
    "    # Sort by dog_stage and drop duplicates\n",
    "    twitter_archive_clean = twitter_archive_clean.sort_values('dog_stage').drop_duplicates(subset='tweet_id', keep='last')\n",
    "else:\n",
    "    print(\"One or more dog stages columns are missing.\")\n"
   ]
  },
  {
   "cell_type": "code",
   "execution_count": 77,
   "metadata": {},
   "outputs": [
    {
     "data": {
      "text/plain": [
       "None       1401\n",
       "pupper     173 \n",
       "doggo      54  \n",
       "puppo      22  \n",
       "floofer    8   \n",
       "Name: dog_stage, dtype: int64"
      ]
     },
     "execution_count": 77,
     "metadata": {},
     "output_type": "execute_result"
    }
   ],
   "source": [
    "twitter_archive_clean.dog_stage.value_counts()"
   ]
  },
  {
   "cell_type": "markdown",
   "metadata": {},
   "source": [
    "# 2. tweet_json: Merge the tweet_json data into the twitter_archive table."
   ]
  },
  {
   "cell_type": "markdown",
   "metadata": {},
   "source": [
    "Define\n",
    "Merge the retweet_count, favorite_count column to the twitter_archive table, joining on tweet_id .\n",
    "\n",
    "Code"
   ]
  },
  {
   "cell_type": "code",
   "execution_count": 78,
   "metadata": {},
   "outputs": [],
   "source": [
    "twitter_archive_clean = pd.merge(twitter_archive_clean, tweet_json_clean,\n",
    "                            on = ['tweet_id'], how = 'left')"
   ]
  },
  {
   "cell_type": "code",
   "execution_count": 79,
   "metadata": {},
   "outputs": [
    {
     "data": {
      "text/html": [
       "<div>\n",
       "<style scoped>\n",
       "    .dataframe tbody tr th:only-of-type {\n",
       "        vertical-align: middle;\n",
       "    }\n",
       "\n",
       "    .dataframe tbody tr th {\n",
       "        vertical-align: top;\n",
       "    }\n",
       "\n",
       "    .dataframe thead th {\n",
       "        text-align: right;\n",
       "    }\n",
       "</style>\n",
       "<table border=\"1\" class=\"dataframe\">\n",
       "  <thead>\n",
       "    <tr style=\"text-align: right;\">\n",
       "      <th></th>\n",
       "      <th>Unnamed: 0</th>\n",
       "      <th>tweet_id</th>\n",
       "      <th>timestamp</th>\n",
       "      <th>source</th>\n",
       "      <th>text</th>\n",
       "      <th>expanded_urls</th>\n",
       "      <th>rating_numerator</th>\n",
       "      <th>rating_denominator</th>\n",
       "      <th>name</th>\n",
       "      <th>dog_stage</th>\n",
       "      <th>retweet_count_x</th>\n",
       "      <th>favorite_count_x</th>\n",
       "      <th>jpg_url</th>\n",
       "      <th>breed</th>\n",
       "      <th>confident_level</th>\n",
       "      <th>retweet_count_y</th>\n",
       "      <th>favorite_count_y</th>\n",
       "    </tr>\n",
       "  </thead>\n",
       "  <tbody>\n",
       "    <tr>\n",
       "      <th>0</th>\n",
       "      <td>0</td>\n",
       "      <td>667470559035432960</td>\n",
       "      <td>2015-11-19 22:00:00</td>\n",
       "      <td>Twitter Web Client</td>\n",
       "      <td>This is a northern Wahoo named Kohl. He runs this town. Chases tumbleweeds. Draws gun wicked fast. 11/10 legendary https://t.co/J4vn2rOYFk</td>\n",
       "      <td>https://twitter.com/dog_rates/status/667470559035432960/photo/1</td>\n",
       "      <td>11.0</td>\n",
       "      <td>10</td>\n",
       "      <td>a</td>\n",
       "      <td>None</td>\n",
       "      <td>102</td>\n",
       "      <td>273</td>\n",
       "      <td>https://pbs.twimg.com/media/CUNU78YWEAECmpB.jpg</td>\n",
       "      <td>Toy_poodle</td>\n",
       "      <td>0.304175</td>\n",
       "      <td>102</td>\n",
       "      <td>273</td>\n",
       "    </tr>\n",
       "    <tr>\n",
       "      <th>1</th>\n",
       "      <td>1</td>\n",
       "      <td>667491009379606528</td>\n",
       "      <td>2015-11-19 23:00:00</td>\n",
       "      <td>Twitter Web Client</td>\n",
       "      <td>Two dogs in this one. Both are rare Jujitsu Pythagoreans. One slightly whiter than other. Long legs. 7/10 and 8/10 https://t.co/ITxxcc4v9y</td>\n",
       "      <td>https://twitter.com/dog_rates/status/667491009379606528/photo/1</td>\n",
       "      <td>7.0</td>\n",
       "      <td>10</td>\n",
       "      <td>None</td>\n",
       "      <td>None</td>\n",
       "      <td>242</td>\n",
       "      <td>559</td>\n",
       "      <td>https://pbs.twimg.com/media/CUNniSlUYAEj1Jl.jpg</td>\n",
       "      <td>Borzoi</td>\n",
       "      <td>0.852088</td>\n",
       "      <td>242</td>\n",
       "      <td>559</td>\n",
       "    </tr>\n",
       "    <tr>\n",
       "      <th>2</th>\n",
       "      <td>2</td>\n",
       "      <td>667495797102141441</td>\n",
       "      <td>2015-11-20 00:00:00</td>\n",
       "      <td>Twitter Web Client</td>\n",
       "      <td>This is Philippe from Soviet Russia. Commanding leader. Misplaced other boot. Hung flag himself. 9/10 charismatic af https://t.co/5NhPV8E45i</td>\n",
       "      <td>https://twitter.com/dog_rates/status/667495797102141441/photo/1</td>\n",
       "      <td>9.0</td>\n",
       "      <td>10</td>\n",
       "      <td>Philippe</td>\n",
       "      <td>None</td>\n",
       "      <td>294</td>\n",
       "      <td>565</td>\n",
       "      <td>https://pbs.twimg.com/media/CUNr4-7UwAAg2lq.jpg</td>\n",
       "      <td>Chihuahua</td>\n",
       "      <td>0.143957</td>\n",
       "      <td>294</td>\n",
       "      <td>565</td>\n",
       "    </tr>\n",
       "    <tr>\n",
       "      <th>3</th>\n",
       "      <td>3</td>\n",
       "      <td>667502640335572993</td>\n",
       "      <td>2015-11-20 00:00:00</td>\n",
       "      <td>Twitter Web Client</td>\n",
       "      <td>Say hello to Hall and Oates. Oates is winking and Hall is contemplating the artistic entropy of the universe. 11/10s https://t.co/n5Wtb5Hvsl</td>\n",
       "      <td>https://twitter.com/dog_rates/status/667502640335572993/photo/1</td>\n",
       "      <td>11.0</td>\n",
       "      <td>10</td>\n",
       "      <td>Hall</td>\n",
       "      <td>None</td>\n",
       "      <td>231</td>\n",
       "      <td>563</td>\n",
       "      <td>https://pbs.twimg.com/media/CUNyHTMUYAAQVch.jpg</td>\n",
       "      <td>Labrador_retriever</td>\n",
       "      <td>0.996709</td>\n",
       "      <td>231</td>\n",
       "      <td>563</td>\n",
       "    </tr>\n",
       "    <tr>\n",
       "      <th>4</th>\n",
       "      <td>4</td>\n",
       "      <td>667509364010450944</td>\n",
       "      <td>2015-11-20 01:00:00</td>\n",
       "      <td>Twitter Web Client</td>\n",
       "      <td>This a Norwegian Pewterschmidt named Tickles. Ears for days. 12/10 I care deeply for Tickles https://t.co/0aDF62KVP7</td>\n",
       "      <td>https://twitter.com/dog_rates/status/667509364010450944/photo/1</td>\n",
       "      <td>12.0</td>\n",
       "      <td>10</td>\n",
       "      <td>None</td>\n",
       "      <td>None</td>\n",
       "      <td>2272</td>\n",
       "      <td>7148</td>\n",
       "      <td>https://pbs.twimg.com/media/CUN4Or5UAAAa5K4.jpg</td>\n",
       "      <td>Beagle</td>\n",
       "      <td>0.636169</td>\n",
       "      <td>2272</td>\n",
       "      <td>7148</td>\n",
       "    </tr>\n",
       "  </tbody>\n",
       "</table>\n",
       "</div>"
      ],
      "text/plain": [
       "   Unnamed: 0            tweet_id           timestamp              source  \\\n",
       "0  0           667470559035432960 2015-11-19 22:00:00  Twitter Web Client   \n",
       "1  1           667491009379606528 2015-11-19 23:00:00  Twitter Web Client   \n",
       "2  2           667495797102141441 2015-11-20 00:00:00  Twitter Web Client   \n",
       "3  3           667502640335572993 2015-11-20 00:00:00  Twitter Web Client   \n",
       "4  4           667509364010450944 2015-11-20 01:00:00  Twitter Web Client   \n",
       "\n",
       "                                                                                                                                           text  \\\n",
       "0  This is a northern Wahoo named Kohl. He runs this town. Chases tumbleweeds. Draws gun wicked fast. 11/10 legendary https://t.co/J4vn2rOYFk     \n",
       "1  Two dogs in this one. Both are rare Jujitsu Pythagoreans. One slightly whiter than other. Long legs. 7/10 and 8/10 https://t.co/ITxxcc4v9y     \n",
       "2  This is Philippe from Soviet Russia. Commanding leader. Misplaced other boot. Hung flag himself. 9/10 charismatic af https://t.co/5NhPV8E45i   \n",
       "3  Say hello to Hall and Oates. Oates is winking and Hall is contemplating the artistic entropy of the universe. 11/10s https://t.co/n5Wtb5Hvsl   \n",
       "4  This a Norwegian Pewterschmidt named Tickles. Ears for days. 12/10 I care deeply for Tickles https://t.co/0aDF62KVP7                           \n",
       "\n",
       "                                                     expanded_urls  \\\n",
       "0  https://twitter.com/dog_rates/status/667470559035432960/photo/1   \n",
       "1  https://twitter.com/dog_rates/status/667491009379606528/photo/1   \n",
       "2  https://twitter.com/dog_rates/status/667495797102141441/photo/1   \n",
       "3  https://twitter.com/dog_rates/status/667502640335572993/photo/1   \n",
       "4  https://twitter.com/dog_rates/status/667509364010450944/photo/1   \n",
       "\n",
       "   rating_numerator  rating_denominator      name dog_stage  retweet_count_x  \\\n",
       "0  11.0              10                  a         None      102               \n",
       "1  7.0               10                  None      None      242               \n",
       "2  9.0               10                  Philippe  None      294               \n",
       "3  11.0              10                  Hall      None      231               \n",
       "4  12.0              10                  None      None      2272              \n",
       "\n",
       "   favorite_count_x                                          jpg_url  \\\n",
       "0  273               https://pbs.twimg.com/media/CUNU78YWEAECmpB.jpg   \n",
       "1  559               https://pbs.twimg.com/media/CUNniSlUYAEj1Jl.jpg   \n",
       "2  565               https://pbs.twimg.com/media/CUNr4-7UwAAg2lq.jpg   \n",
       "3  563               https://pbs.twimg.com/media/CUNyHTMUYAAQVch.jpg   \n",
       "4  7148              https://pbs.twimg.com/media/CUN4Or5UAAAa5K4.jpg   \n",
       "\n",
       "                breed  confident_level  retweet_count_y  favorite_count_y  \n",
       "0  Toy_poodle          0.304175         102              273               \n",
       "1  Borzoi              0.852088         242              559               \n",
       "2  Chihuahua           0.143957         294              565               \n",
       "3  Labrador_retriever  0.996709         231              563               \n",
       "4  Beagle              0.636169         2272             7148              "
      ]
     },
     "execution_count": 79,
     "metadata": {},
     "output_type": "execute_result"
    }
   ],
   "source": [
    "twitter_archive_clean.head()"
   ]
  },
  {
   "cell_type": "markdown",
   "metadata": {},
   "source": [
    "# 3. image_prediction: Integrate the image_prediction data into the twitter_archive table. Given our focus on original ratings with images, retain only those rows that have associated images.\n",
    "\n",
    "\n",
    "\n",
    "\n",
    "\n",
    "\n"
   ]
  },
  {
   "cell_type": "code",
   "execution_count": 83,
   "metadata": {},
   "outputs": [
    {
     "name": "stdout",
     "output_type": "stream",
     "text": [
      "Number of null values in 'jpg_url' before cleaning: 0\n"
     ]
    }
   ],
   "source": [
    "# Merge tables\n",
    "twitter_archive_clean = pd.merge(twitter_archive_clean, image_prediction_clean,\n",
    "                                 on='tweet_id', how='left')\n",
    "\n",
    "# Display the number of null values before cleaning\n",
    "null_values_before_cleaning = twitter_archive_clean['jpg_url'].isna().sum()\n",
    "print(f\"Number of null values in 'jpg_url' before cleaning: {null_values_before_cleaning}\")\n"
   ]
  },
  {
   "cell_type": "code",
   "execution_count": 84,
   "metadata": {},
   "outputs": [],
   "source": [
    "twitter_archive_clean = (twitter_archive_clean[twitter_archive_clean.jpg_url.notnull()])"
   ]
  },
  {
   "cell_type": "code",
   "execution_count": 85,
   "metadata": {},
   "outputs": [
    {
     "data": {
      "text/plain": [
       "0"
      ]
     },
     "execution_count": 85,
     "metadata": {},
     "output_type": "execute_result"
    }
   ],
   "source": [
    "# number of null values after cleaning\n",
    "twitter_archive_clean.jpg_url.isnull().sum()"
   ]
  },
  {
   "cell_type": "code",
   "execution_count": 86,
   "metadata": {},
   "outputs": [
    {
     "data": {
      "text/html": [
       "<div>\n",
       "<style scoped>\n",
       "    .dataframe tbody tr th:only-of-type {\n",
       "        vertical-align: middle;\n",
       "    }\n",
       "\n",
       "    .dataframe tbody tr th {\n",
       "        vertical-align: top;\n",
       "    }\n",
       "\n",
       "    .dataframe thead th {\n",
       "        text-align: right;\n",
       "    }\n",
       "</style>\n",
       "<table border=\"1\" class=\"dataframe\">\n",
       "  <thead>\n",
       "    <tr style=\"text-align: right;\">\n",
       "      <th></th>\n",
       "      <th>Unnamed: 0</th>\n",
       "      <th>tweet_id</th>\n",
       "      <th>timestamp</th>\n",
       "      <th>source</th>\n",
       "      <th>text</th>\n",
       "      <th>expanded_urls</th>\n",
       "      <th>rating_numerator</th>\n",
       "      <th>rating_denominator</th>\n",
       "      <th>name</th>\n",
       "      <th>dog_stage</th>\n",
       "      <th>...</th>\n",
       "      <th>confident_level_y</th>\n",
       "      <th>jpg_url_x</th>\n",
       "      <th>breed_x</th>\n",
       "      <th>confident_level_x</th>\n",
       "      <th>jpg_url_y</th>\n",
       "      <th>breed_y</th>\n",
       "      <th>confident_level_y</th>\n",
       "      <th>jpg_url</th>\n",
       "      <th>breed</th>\n",
       "      <th>confident_level</th>\n",
       "    </tr>\n",
       "  </thead>\n",
       "  <tbody>\n",
       "    <tr>\n",
       "      <th>0</th>\n",
       "      <td>0</td>\n",
       "      <td>667470559035432960</td>\n",
       "      <td>2015-11-19 22:00:00</td>\n",
       "      <td>Twitter Web Client</td>\n",
       "      <td>This is a northern Wahoo named Kohl. He runs this town. Chases tumbleweeds. Draws gun wicked fast. 11/10 legendary https://t.co/J4vn2rOYFk</td>\n",
       "      <td>https://twitter.com/dog_rates/status/667470559035432960/photo/1</td>\n",
       "      <td>11.0</td>\n",
       "      <td>10</td>\n",
       "      <td>a</td>\n",
       "      <td>None</td>\n",
       "      <td>...</td>\n",
       "      <td>0.304175</td>\n",
       "      <td>https://pbs.twimg.com/media/CUNU78YWEAECmpB.jpg</td>\n",
       "      <td>Toy_poodle</td>\n",
       "      <td>0.304175</td>\n",
       "      <td>https://pbs.twimg.com/media/CUNU78YWEAECmpB.jpg</td>\n",
       "      <td>Toy_poodle</td>\n",
       "      <td>0.304175</td>\n",
       "      <td>https://pbs.twimg.com/media/CUNU78YWEAECmpB.jpg</td>\n",
       "      <td>Toy_poodle</td>\n",
       "      <td>0.304175</td>\n",
       "    </tr>\n",
       "    <tr>\n",
       "      <th>1</th>\n",
       "      <td>1</td>\n",
       "      <td>667491009379606528</td>\n",
       "      <td>2015-11-19 23:00:00</td>\n",
       "      <td>Twitter Web Client</td>\n",
       "      <td>Two dogs in this one. Both are rare Jujitsu Pythagoreans. One slightly whiter than other. Long legs. 7/10 and 8/10 https://t.co/ITxxcc4v9y</td>\n",
       "      <td>https://twitter.com/dog_rates/status/667491009379606528/photo/1</td>\n",
       "      <td>7.0</td>\n",
       "      <td>10</td>\n",
       "      <td>None</td>\n",
       "      <td>None</td>\n",
       "      <td>...</td>\n",
       "      <td>0.852088</td>\n",
       "      <td>https://pbs.twimg.com/media/CUNniSlUYAEj1Jl.jpg</td>\n",
       "      <td>Borzoi</td>\n",
       "      <td>0.852088</td>\n",
       "      <td>https://pbs.twimg.com/media/CUNniSlUYAEj1Jl.jpg</td>\n",
       "      <td>Borzoi</td>\n",
       "      <td>0.852088</td>\n",
       "      <td>https://pbs.twimg.com/media/CUNniSlUYAEj1Jl.jpg</td>\n",
       "      <td>Borzoi</td>\n",
       "      <td>0.852088</td>\n",
       "    </tr>\n",
       "    <tr>\n",
       "      <th>2</th>\n",
       "      <td>2</td>\n",
       "      <td>667495797102141441</td>\n",
       "      <td>2015-11-20 00:00:00</td>\n",
       "      <td>Twitter Web Client</td>\n",
       "      <td>This is Philippe from Soviet Russia. Commanding leader. Misplaced other boot. Hung flag himself. 9/10 charismatic af https://t.co/5NhPV8E45i</td>\n",
       "      <td>https://twitter.com/dog_rates/status/667495797102141441/photo/1</td>\n",
       "      <td>9.0</td>\n",
       "      <td>10</td>\n",
       "      <td>Philippe</td>\n",
       "      <td>None</td>\n",
       "      <td>...</td>\n",
       "      <td>0.143957</td>\n",
       "      <td>https://pbs.twimg.com/media/CUNr4-7UwAAg2lq.jpg</td>\n",
       "      <td>Chihuahua</td>\n",
       "      <td>0.143957</td>\n",
       "      <td>https://pbs.twimg.com/media/CUNr4-7UwAAg2lq.jpg</td>\n",
       "      <td>Chihuahua</td>\n",
       "      <td>0.143957</td>\n",
       "      <td>https://pbs.twimg.com/media/CUNr4-7UwAAg2lq.jpg</td>\n",
       "      <td>Chihuahua</td>\n",
       "      <td>0.143957</td>\n",
       "    </tr>\n",
       "    <tr>\n",
       "      <th>3</th>\n",
       "      <td>3</td>\n",
       "      <td>667502640335572993</td>\n",
       "      <td>2015-11-20 00:00:00</td>\n",
       "      <td>Twitter Web Client</td>\n",
       "      <td>Say hello to Hall and Oates. Oates is winking and Hall is contemplating the artistic entropy of the universe. 11/10s https://t.co/n5Wtb5Hvsl</td>\n",
       "      <td>https://twitter.com/dog_rates/status/667502640335572993/photo/1</td>\n",
       "      <td>11.0</td>\n",
       "      <td>10</td>\n",
       "      <td>Hall</td>\n",
       "      <td>None</td>\n",
       "      <td>...</td>\n",
       "      <td>0.996709</td>\n",
       "      <td>https://pbs.twimg.com/media/CUNyHTMUYAAQVch.jpg</td>\n",
       "      <td>Labrador_retriever</td>\n",
       "      <td>0.996709</td>\n",
       "      <td>https://pbs.twimg.com/media/CUNyHTMUYAAQVch.jpg</td>\n",
       "      <td>Labrador_retriever</td>\n",
       "      <td>0.996709</td>\n",
       "      <td>https://pbs.twimg.com/media/CUNyHTMUYAAQVch.jpg</td>\n",
       "      <td>Labrador_retriever</td>\n",
       "      <td>0.996709</td>\n",
       "    </tr>\n",
       "    <tr>\n",
       "      <th>4</th>\n",
       "      <td>4</td>\n",
       "      <td>667509364010450944</td>\n",
       "      <td>2015-11-20 01:00:00</td>\n",
       "      <td>Twitter Web Client</td>\n",
       "      <td>This a Norwegian Pewterschmidt named Tickles. Ears for days. 12/10 I care deeply for Tickles https://t.co/0aDF62KVP7</td>\n",
       "      <td>https://twitter.com/dog_rates/status/667509364010450944/photo/1</td>\n",
       "      <td>12.0</td>\n",
       "      <td>10</td>\n",
       "      <td>None</td>\n",
       "      <td>None</td>\n",
       "      <td>...</td>\n",
       "      <td>0.636169</td>\n",
       "      <td>https://pbs.twimg.com/media/CUN4Or5UAAAa5K4.jpg</td>\n",
       "      <td>Beagle</td>\n",
       "      <td>0.636169</td>\n",
       "      <td>https://pbs.twimg.com/media/CUN4Or5UAAAa5K4.jpg</td>\n",
       "      <td>Beagle</td>\n",
       "      <td>0.636169</td>\n",
       "      <td>https://pbs.twimg.com/media/CUN4Or5UAAAa5K4.jpg</td>\n",
       "      <td>Beagle</td>\n",
       "      <td>0.636169</td>\n",
       "    </tr>\n",
       "  </tbody>\n",
       "</table>\n",
       "<p>5 rows × 29 columns</p>\n",
       "</div>"
      ],
      "text/plain": [
       "   Unnamed: 0            tweet_id           timestamp              source  \\\n",
       "0  0           667470559035432960 2015-11-19 22:00:00  Twitter Web Client   \n",
       "1  1           667491009379606528 2015-11-19 23:00:00  Twitter Web Client   \n",
       "2  2           667495797102141441 2015-11-20 00:00:00  Twitter Web Client   \n",
       "3  3           667502640335572993 2015-11-20 00:00:00  Twitter Web Client   \n",
       "4  4           667509364010450944 2015-11-20 01:00:00  Twitter Web Client   \n",
       "\n",
       "                                                                                                                                           text  \\\n",
       "0  This is a northern Wahoo named Kohl. He runs this town. Chases tumbleweeds. Draws gun wicked fast. 11/10 legendary https://t.co/J4vn2rOYFk     \n",
       "1  Two dogs in this one. Both are rare Jujitsu Pythagoreans. One slightly whiter than other. Long legs. 7/10 and 8/10 https://t.co/ITxxcc4v9y     \n",
       "2  This is Philippe from Soviet Russia. Commanding leader. Misplaced other boot. Hung flag himself. 9/10 charismatic af https://t.co/5NhPV8E45i   \n",
       "3  Say hello to Hall and Oates. Oates is winking and Hall is contemplating the artistic entropy of the universe. 11/10s https://t.co/n5Wtb5Hvsl   \n",
       "4  This a Norwegian Pewterschmidt named Tickles. Ears for days. 12/10 I care deeply for Tickles https://t.co/0aDF62KVP7                           \n",
       "\n",
       "                                                     expanded_urls  \\\n",
       "0  https://twitter.com/dog_rates/status/667470559035432960/photo/1   \n",
       "1  https://twitter.com/dog_rates/status/667491009379606528/photo/1   \n",
       "2  https://twitter.com/dog_rates/status/667495797102141441/photo/1   \n",
       "3  https://twitter.com/dog_rates/status/667502640335572993/photo/1   \n",
       "4  https://twitter.com/dog_rates/status/667509364010450944/photo/1   \n",
       "\n",
       "   rating_numerator  rating_denominator      name dog_stage  ...  \\\n",
       "0  11.0              10                  a         None      ...   \n",
       "1  7.0               10                  None      None      ...   \n",
       "2  9.0               10                  Philippe  None      ...   \n",
       "3  11.0              10                  Hall      None      ...   \n",
       "4  12.0              10                  None      None      ...   \n",
       "\n",
       "   confident_level_y                                        jpg_url_x  \\\n",
       "0  0.304175           https://pbs.twimg.com/media/CUNU78YWEAECmpB.jpg   \n",
       "1  0.852088           https://pbs.twimg.com/media/CUNniSlUYAEj1Jl.jpg   \n",
       "2  0.143957           https://pbs.twimg.com/media/CUNr4-7UwAAg2lq.jpg   \n",
       "3  0.996709           https://pbs.twimg.com/media/CUNyHTMUYAAQVch.jpg   \n",
       "4  0.636169           https://pbs.twimg.com/media/CUN4Or5UAAAa5K4.jpg   \n",
       "\n",
       "              breed_x confident_level_x  \\\n",
       "0  Toy_poodle          0.304175           \n",
       "1  Borzoi              0.852088           \n",
       "2  Chihuahua           0.143957           \n",
       "3  Labrador_retriever  0.996709           \n",
       "4  Beagle              0.636169           \n",
       "\n",
       "                                         jpg_url_y             breed_y  \\\n",
       "0  https://pbs.twimg.com/media/CUNU78YWEAECmpB.jpg  Toy_poodle           \n",
       "1  https://pbs.twimg.com/media/CUNniSlUYAEj1Jl.jpg  Borzoi               \n",
       "2  https://pbs.twimg.com/media/CUNr4-7UwAAg2lq.jpg  Chihuahua            \n",
       "3  https://pbs.twimg.com/media/CUNyHTMUYAAQVch.jpg  Labrador_retriever   \n",
       "4  https://pbs.twimg.com/media/CUN4Or5UAAAa5K4.jpg  Beagle               \n",
       "\n",
       "   confident_level_y                                          jpg_url  \\\n",
       "0  0.304175           https://pbs.twimg.com/media/CUNU78YWEAECmpB.jpg   \n",
       "1  0.852088           https://pbs.twimg.com/media/CUNniSlUYAEj1Jl.jpg   \n",
       "2  0.143957           https://pbs.twimg.com/media/CUNr4-7UwAAg2lq.jpg   \n",
       "3  0.996709           https://pbs.twimg.com/media/CUNyHTMUYAAQVch.jpg   \n",
       "4  0.636169           https://pbs.twimg.com/media/CUN4Or5UAAAa5K4.jpg   \n",
       "\n",
       "                breed  confident_level  \n",
       "0  Toy_poodle          0.304175         \n",
       "1  Borzoi              0.852088         \n",
       "2  Chihuahua           0.143957         \n",
       "3  Labrador_retriever  0.996709         \n",
       "4  Beagle              0.636169         \n",
       "\n",
       "[5 rows x 29 columns]"
      ]
     },
     "execution_count": 86,
     "metadata": {},
     "output_type": "execute_result"
    }
   ],
   "source": [
    "# View the dataframe\n",
    "twitter_archive_clean.head()"
   ]
  },
  {
   "cell_type": "code",
   "execution_count": 88,
   "metadata": {},
   "outputs": [
    {
     "name": "stdout",
     "output_type": "stream",
     "text": [
      "<class 'pandas.core.frame.DataFrame'>\n",
      "Int64Index: 1658 entries, 0 to 1657\n",
      "Data columns (total 29 columns):\n",
      " #   Column              Non-Null Count  Dtype         \n",
      "---  ------              --------------  -----         \n",
      " 0   Unnamed: 0          1658 non-null   int64         \n",
      " 1   tweet_id            1658 non-null   int64         \n",
      " 2   timestamp           1658 non-null   datetime64[ns]\n",
      " 3   source              1658 non-null   object        \n",
      " 4   text                1658 non-null   object        \n",
      " 5   expanded_urls       1658 non-null   object        \n",
      " 6   rating_numerator    1658 non-null   float64       \n",
      " 7   rating_denominator  1658 non-null   int64         \n",
      " 8   name                1658 non-null   object        \n",
      " 9   dog_stage           1658 non-null   object        \n",
      " 10  retweet_count_x     1658 non-null   int64         \n",
      " 11  favorite_count_x    1658 non-null   int64         \n",
      " 12  jpg_url_x           1658 non-null   object        \n",
      " 13  breed_x             1658 non-null   object        \n",
      " 14  confident_level_x   1658 non-null   float64       \n",
      " 15  retweet_count_y     1658 non-null   int64         \n",
      " 16  favorite_count_y    1658 non-null   int64         \n",
      " 17  jpg_url_y           1658 non-null   object        \n",
      " 18  breed_y             1658 non-null   object        \n",
      " 19  confident_level_y   1658 non-null   float64       \n",
      " 20  jpg_url_x           1658 non-null   object        \n",
      " 21  breed_x             1658 non-null   object        \n",
      " 22  confident_level_x   1658 non-null   float64       \n",
      " 23  jpg_url_y           1658 non-null   object        \n",
      " 24  breed_y             1658 non-null   object        \n",
      " 25  confident_level_y   1658 non-null   float64       \n",
      " 26  jpg_url             1658 non-null   object        \n",
      " 27  breed               1658 non-null   object        \n",
      " 28  confident_level     1658 non-null   float64       \n",
      "dtypes: datetime64[ns](1), float64(6), int64(7), object(15)\n",
      "memory usage: 388.6+ KB\n"
     ]
    }
   ],
   "source": [
    "twitter_archive_clean.info()"
   ]
  },
  {
   "cell_type": "code",
   "execution_count": 100,
   "metadata": {},
   "outputs": [
    {
     "name": "stdout",
     "output_type": "stream",
     "text": [
      "      Unnamed: 0.1  Unnamed: 0            tweet_id            timestamp  \\\n",
      "0     0             0           667470559035432960  2015-11-19 22:00:00   \n",
      "1     1             1           667491009379606528  2015-11-19 23:00:00   \n",
      "2     2             2           667495797102141441  2015-11-20 00:00:00   \n",
      "3     3             3           667502640335572993  2015-11-20 00:00:00   \n",
      "4     4             4           667509364010450944  2015-11-20 01:00:00   \n",
      "...  ..            ..                          ...                  ...   \n",
      "1653  1653          1779        878776093423087618  2017-06-25 00:00:00   \n",
      "1654  1654          1780        867421006826221569  2017-05-24 16:00:00   \n",
      "1655  1655          1781        859607811541651456  2017-05-03 03:00:00   \n",
      "1656  1656          1782        825026590719483904  2017-01-27 17:00:00   \n",
      "1657  1657          1783        803773340896923648  2016-11-30 01:00:00   \n",
      "\n",
      "                  source  \\\n",
      "0     Twitter Web Client   \n",
      "1     Twitter Web Client   \n",
      "2     Twitter Web Client   \n",
      "3     Twitter Web Client   \n",
      "4     Twitter Web Client   \n",
      "...                  ...   \n",
      "1653  Twitter for iPhone   \n",
      "1654  Twitter for iPhone   \n",
      "1655  Twitter for iPhone   \n",
      "1656  Twitter for iPhone   \n",
      "1657  Twitter for iPhone   \n",
      "\n",
      "                                                                                                                                                                        text  \\\n",
      "0     This is a northern Wahoo named Kohl. He runs this town. Chases tumbleweeds. Draws gun wicked fast. 11/10 legendary https://t.co/J4vn2rOYFk                               \n",
      "1     Two dogs in this one. Both are rare Jujitsu Pythagoreans. One slightly whiter than other. Long legs. 7/10 and 8/10 https://t.co/ITxxcc4v9y                               \n",
      "2     This is Philippe from Soviet Russia. Commanding leader. Misplaced other boot. Hung flag himself. 9/10 charismatic af https://t.co/5NhPV8E45i                             \n",
      "3     Say hello to Hall and Oates. Oates is winking and Hall is contemplating the artistic entropy of the universe. 11/10s https://t.co/n5Wtb5Hvsl                             \n",
      "4     This a Norwegian Pewterschmidt named Tickles. Ears for days. 12/10 I care deeply for Tickles https://t.co/0aDF62KVP7                                                     \n",
      "...                                                                                                                    ...                                                     \n",
      "1653  This is Snoopy. He's a proud #PrideMonthPuppo. Impeccable handwriting for not having thumbs. 13/10 would love back #PrideMonth https://t.co/lNZwgNO4gS                   \n",
      "1654  This is Shikha. She just watched you drop a skittle on the ground and still eat it. Could not be less impressed. 12/10 superior puppo https://t.co/XZlZKd73go            \n",
      "1655  Sorry for the lack of posts today. I came home from school and had to spend quality time with my puppo. Her name is Zoey and she's 13/10 https://t.co/BArWupFAn0         \n",
      "1656  Say hello to Pablo. He's one gorgeous puppo. A true 12/10. Click the link to see why Pablo requests your assistance\\n\\nhttps://t.co/koHvVQp9bL https://t.co/IhW0JKf7kc   \n",
      "1657  This is Diogi. He fell in the pool as soon as he was brought home. Clumsy puppo. 12/10 would pet until dry https://t.co/ZxeRjMKaWt                                       \n",
      "\n",
      "                                                                                                                                                                                                                                                        expanded_urls  \\\n",
      "0     https://twitter.com/dog_rates/status/667470559035432960/photo/1                                                                                                                                                                                                   \n",
      "1     https://twitter.com/dog_rates/status/667491009379606528/photo/1                                                                                                                                                                                                   \n",
      "2     https://twitter.com/dog_rates/status/667495797102141441/photo/1                                                                                                                                                                                                   \n",
      "3     https://twitter.com/dog_rates/status/667502640335572993/photo/1                                                                                                                                                                                                   \n",
      "4     https://twitter.com/dog_rates/status/667509364010450944/photo/1                                                                                                                                                                                                   \n",
      "...                                                               ...                                                                                                                                                                                                   \n",
      "1653  https://twitter.com/dog_rates/status/878776093423087618/photo/1,https://twitter.com/dog_rates/status/878776093423087618/photo/1                                                                                                                                   \n",
      "1654  https://twitter.com/dog_rates/status/867421006826221569/photo/1                                                                                                                                                                                                   \n",
      "1655  https://twitter.com/dog_rates/status/859607811541651456/photo/1                                                                                                                                                                                                   \n",
      "1656  https://www.gofundme.com/my-puppys-double-cataract-surgery,https://twitter.com/dog_rates/status/825026590719483904/photo/1,https://twitter.com/dog_rates/status/825026590719483904/photo/1                                                                        \n",
      "1657  https://twitter.com/dog_rates/status/803773340896923648/photo/1,https://twitter.com/dog_rates/status/803773340896923648/photo/1,https://twitter.com/dog_rates/status/803773340896923648/photo/1,https://twitter.com/dog_rates/status/803773340896923648/photo/1   \n",
      "\n",
      "      rating_numerator  rating_denominator      name  ... confident_level_y  \\\n",
      "0     11.0              10                  a         ...  0.304175           \n",
      "1     7.0               10                  None      ...  0.852088           \n",
      "2     9.0               10                  Philippe  ...  0.143957           \n",
      "3     11.0              10                  Hall      ...  0.996709           \n",
      "4     12.0              10                  None      ...  0.636169           \n",
      "...    ...              ..                   ...      ...       ...           \n",
      "1653  13.0              10                  Snoopy    ...  0.734684           \n",
      "1654  12.0              10                  Shikha    ...  0.616457           \n",
      "1655  13.0              10                  None      ...  0.895529           \n",
      "1656  12.0              10                  Pablo     ...  0.524454           \n",
      "1657  12.0              10                  Diogi     ...  0.817066           \n",
      "\n",
      "                                          jpg_url_x.1           breed_x.1  \\\n",
      "0     https://pbs.twimg.com/media/CUNU78YWEAECmpB.jpg  Toy_poodle           \n",
      "1     https://pbs.twimg.com/media/CUNniSlUYAEj1Jl.jpg  Borzoi               \n",
      "2     https://pbs.twimg.com/media/CUNr4-7UwAAg2lq.jpg  Chihuahua            \n",
      "3     https://pbs.twimg.com/media/CUNyHTMUYAAQVch.jpg  Labrador_retriever   \n",
      "4     https://pbs.twimg.com/media/CUN4Or5UAAAa5K4.jpg  Beagle               \n",
      "...                                               ...     ...               \n",
      "1653  https://pbs.twimg.com/media/DDIKMXzW0AEibje.jpg  Italian_greyhound    \n",
      "1654  https://pbs.twimg.com/media/DAmyy8FXYAIH8Ty.jpg  Eskimo_dog           \n",
      "1655  https://pbs.twimg.com/media/C-3wvtxXcAUTuBE.jpg  Golden_retriever     \n",
      "1656  https://pbs.twimg.com/media/C3MVTeHWcAAGNfx.jpg  Eskimo_dog           \n",
      "1657  https://pbs.twimg.com/media/CyeTku-XcAALkBd.jpg  Miniature_pinscher   \n",
      "\n",
      "     confident_level_x.1                                      jpg_url_y.1  \\\n",
      "0     0.304175            https://pbs.twimg.com/media/CUNU78YWEAECmpB.jpg   \n",
      "1     0.852088            https://pbs.twimg.com/media/CUNniSlUYAEj1Jl.jpg   \n",
      "2     0.143957            https://pbs.twimg.com/media/CUNr4-7UwAAg2lq.jpg   \n",
      "3     0.996709            https://pbs.twimg.com/media/CUNyHTMUYAAQVch.jpg   \n",
      "4     0.636169            https://pbs.twimg.com/media/CUN4Or5UAAAa5K4.jpg   \n",
      "...        ...                                                        ...   \n",
      "1653  0.734684            https://pbs.twimg.com/media/DDIKMXzW0AEibje.jpg   \n",
      "1654  0.616457            https://pbs.twimg.com/media/DAmyy8FXYAIH8Ty.jpg   \n",
      "1655  0.895529            https://pbs.twimg.com/media/C-3wvtxXcAUTuBE.jpg   \n",
      "1656  0.524454            https://pbs.twimg.com/media/C3MVTeHWcAAGNfx.jpg   \n",
      "1657  0.817066            https://pbs.twimg.com/media/CyeTku-XcAALkBd.jpg   \n",
      "\n",
      "               breed_y.1  confident_level_y.1  \\\n",
      "0     Toy_poodle          0.304175              \n",
      "1     Borzoi              0.852088              \n",
      "2     Chihuahua           0.143957              \n",
      "3     Labrador_retriever  0.996709              \n",
      "4     Beagle              0.636169              \n",
      "...      ...                   ...              \n",
      "1653  Italian_greyhound   0.734684              \n",
      "1654  Eskimo_dog          0.616457              \n",
      "1655  Golden_retriever    0.895529              \n",
      "1656  Eskimo_dog          0.524454              \n",
      "1657  Miniature_pinscher  0.817066              \n",
      "\n",
      "                                              jpg_url               breed  \\\n",
      "0     https://pbs.twimg.com/media/CUNU78YWEAECmpB.jpg  Toy_poodle           \n",
      "1     https://pbs.twimg.com/media/CUNniSlUYAEj1Jl.jpg  Borzoi               \n",
      "2     https://pbs.twimg.com/media/CUNr4-7UwAAg2lq.jpg  Chihuahua            \n",
      "3     https://pbs.twimg.com/media/CUNyHTMUYAAQVch.jpg  Labrador_retriever   \n",
      "4     https://pbs.twimg.com/media/CUN4Or5UAAAa5K4.jpg  Beagle               \n",
      "...                                               ...     ...               \n",
      "1653  https://pbs.twimg.com/media/DDIKMXzW0AEibje.jpg  Italian_greyhound    \n",
      "1654  https://pbs.twimg.com/media/DAmyy8FXYAIH8Ty.jpg  Eskimo_dog           \n",
      "1655  https://pbs.twimg.com/media/C-3wvtxXcAUTuBE.jpg  Golden_retriever     \n",
      "1656  https://pbs.twimg.com/media/C3MVTeHWcAAGNfx.jpg  Eskimo_dog           \n",
      "1657  https://pbs.twimg.com/media/CyeTku-XcAALkBd.jpg  Miniature_pinscher   \n",
      "\n",
      "     confident_level  \n",
      "0     0.304175        \n",
      "1     0.852088        \n",
      "2     0.143957        \n",
      "3     0.996709        \n",
      "4     0.636169        \n",
      "...        ...        \n",
      "1653  0.734684        \n",
      "1654  0.616457        \n",
      "1655  0.895529        \n",
      "1656  0.524454        \n",
      "1657  0.817066        \n",
      "\n",
      "[1658 rows x 30 columns]\n"
     ]
    }
   ],
   "source": [
    "# Store the clean dataframe in a CSV file named twitter_archive_master.csv\n",
    "twitter_archive_clean.to_csv('twitter_archive_master.csv')\n",
    "\n",
    "# load data to a dataframe\n",
    "df = pd.read_csv('twitter_archive_master.csv')\n",
    "print(df)"
   ]
  },
  {
   "cell_type": "markdown",
   "metadata": {},
   "source": [
    "# V. Analyzing Data & Visualization\n",
    "\n",
    "\n",
    "\n",
    "\n",
    "\n",
    "\n"
   ]
  },
  {
   "cell_type": "markdown",
   "metadata": {},
   "source": [
    "# Identify popular dog breeds based on:\n"
   ]
  },
  {
   "cell_type": "markdown",
   "metadata": {},
   "source": [
    "- The count of original tweets \n",
    "- The total number of retweets \n",
    "- The total number of favorites"
   ]
  },
  {
   "cell_type": "code",
   "execution_count": 91,
   "metadata": {},
   "outputs": [
    {
     "data": {
      "text/plain": [
       "Golden_retriever      156\n",
       "Labrador_retriever    106\n",
       "Pembroke              94 \n",
       "Chihuahua             88 \n",
       "Pug                   62 \n",
       "                      .. \n",
       "Japanese_spaniel      1  \n",
       "Standard_schnauzer    1  \n",
       "Irish_wolfhound       1  \n",
       "Scotch_terrier        1  \n",
       "Clumber               1  \n",
       "Name: breed, Length: 113, dtype: int64"
      ]
     },
     "execution_count": 91,
     "metadata": {},
     "output_type": "execute_result"
    }
   ],
   "source": [
    "df.breed.value_counts()\n"
   ]
  },
  {
   "cell_type": "code",
   "execution_count": 92,
   "metadata": {},
   "outputs": [
    {
     "data": {
      "image/png": "[encoded data removed]",
      "text/plain": [
       "<Figure size 640x480 with 1 Axes>"
      ]
     },
     "metadata": {},
     "output_type": "display_data"
    }
   ],
   "source": [
    "# Plot bar chart for top 10 popular breeds based on number of posts\n",
    "df.breed.value_counts()[10::-1].plot(kind = 'barh', title = 'Top 10 Popular Dog Dreeds Based On number of Tweets')\n",
    "plt.xlabel('Count')\n",
    "plt.ylabel('Breed');\n"
   ]
  },
  {
   "cell_type": "markdown",
   "metadata": {},
   "source": [
    "We've cleaned the image_prediction data to keep tweets only for dogs. From the graph, we can clearly see that Golden retriever is the most popular dog breed with 156 tweets. Labrador_retriever is the second popular breed with 106 tweets. The next three breeds are Pembroke (94), Chihuahua (88) and Pug(62) followed by other breeds in descending order. We'll then plot to see popular dog breeds based on number of retweets and favorites."
   ]
  },
  {
   "cell_type": "code",
   "execution_count": 107,
   "metadata": {},
   "outputs": [
    {
     "data": {
      "image/png": "[encoded data removed]",
      "text/plain": [
       "<Figure size 700x1000 with 2 Axes>"
      ]
     },
     "metadata": {},
     "output_type": "display_data"
    }
   ],
   "source": [
    "import matplotlib.pyplot as plt\n",
    "\n",
    "# Specify the correct columns of interest\n",
    "columns = ['breed', 'retweet_count_x', 'favorite_count_x']\n",
    "\n",
    "# Check if the specified columns exist in the DataFrame\n",
    "if all(col in df.columns for col in columns):\n",
    "    df_breed = df[columns]\n",
    "\n",
    "    # Group by breed and sum up the retweet and favorite counts\n",
    "    breed_retweet = df_breed.groupby('breed')['retweet_count_x'].sum().nlargest(10).sort_values()\n",
    "    breed_favorite = df_breed.groupby('breed')['favorite_count_x'].sum().nlargest(10).sort_values()\n",
    "\n",
    "    # Plot horizontal bar chart\n",
    "    fig, (ax1, ax2) = plt.subplots(2, 1, figsize=(7, 10))\n",
    "\n",
    "    # Top 10 breeds based on the number of retweets\n",
    "    breed_retweet.plot.barh(ax=ax1, color='#6A5ACD')\n",
    "    ax1.set_title(\"Top 10 Breeds Based On Retweets Count\")\n",
    "\n",
    "    # Top 10 breeds based on the number of favorites\n",
    "    breed_favorite.plot.barh(ax=ax2, color='#2E8B57')\n",
    "    ax2.set_title(\"Top 10 Breeds Based on Favorite Count\")\n",
    "\n",
    "    fig.subplots_adjust(hspace=0.3)\n",
    "\n",
    "    plt.show()\n",
    "else:\n",
    "    print(\"One or more specified columns are not present in the DataFrame.\")\n"
   ]
  },
  {
   "cell_type": "markdown",
   "metadata": {},
   "source": [
    "Top 10 popular breeds based on tweet count are: Golden retriever, Labrador retriever, Pembroke, Chihuahua, Pug, Toy poodle, Chow, Samoyed. Pomeranian, Malamute and Chesapeake Bay retriever in descending order. Top 10 breeds based on retweets count are: Golden retriever, Labrador retriever, Pembroke, Chihuahua, Samoyed, French bulldog, Cocker spaniel, Chow, Pug, Toy poodle and Pomeranian. Top 10 breeds based on favorite count are very similar to retweet count(except 5th: French bulldog, 6th : Chow, 7th: Cocker spaniel, 10th: Malamute) probably due to the possible correlation between retweets and favorite since people who retweet are likely to click favorite. The three graphs demonstrate the same pattern that golden retriever, Labrador retriever, Pembroke, and Chihuahua are the top four popular breeds of dogs with Golden retriever being our No.1 popular dog in all standard."
   ]
  },
  {
   "cell_type": "markdown",
   "metadata": {},
   "source": [
    "# 2. What is the most common dog stage?"
   ]
  },
  {
   "cell_type": "code",
   "execution_count": 108,
   "metadata": {},
   "outputs": [
    {
     "data": {
      "text/plain": [
       "None       0.844994\n",
       "pupper     0.104343\n",
       "doggo      0.032569\n",
       "puppo      0.013269\n",
       "floofer    0.004825\n",
       "Name: dog_stage, dtype: float64"
      ]
     },
     "execution_count": 108,
     "metadata": {},
     "output_type": "execute_result"
    }
   ],
   "source": [
    "# Dog stage and count\n",
    "df.dog_stage.value_counts(normalize=True)"
   ]
  },
  {
   "cell_type": "code",
   "execution_count": 109,
   "metadata": {},
   "outputs": [
    {
     "data": {
      "image/png": "[encoded data removed]",
      "text/plain": [
       "<Figure size 640x480 with 1 Axes>"
      ]
     },
     "metadata": {},
     "output_type": "display_data"
    }
   ],
   "source": [
    "# Plot pie chart\n",
    "labels = ['None', 'pupper', 'doggo', 'puppo', 'floofer']\n",
    "values = df.dog_stage.value_counts(normalize=True)\n",
    "colors = ['g', 'r', 'c' ,'m', 'y']\n",
    "explode = (0.2, 0, 0, 0, 0)\n",
    "\n",
    "plt.pie(values, colors=colors, explode=explode, autopct='%1.1f%%', radius = 1.3, shadow=True, counterclock=False)\n",
    "plt.legend(labels, loc=0)\n",
    "plt.title('Dog Stages')\n",
    "plt.tight_layout()"
   ]
  },
  {
   "cell_type": "markdown",
   "metadata": {},
   "source": [
    "From the pie chart we can see that more than 80% of the tweets do not provide dog stage information in the post. For those have the stage information, pupper is most common stage among all those tweets."
   ]
  },
  {
   "cell_type": "markdown",
   "metadata": {},
   "source": [
    "# 3. Rating numerator"
   ]
  },
  {
   "cell_type": "markdown",
   "metadata": {},
   "source": [
    "Since rating denominator is almost always 10 and we've cleaned the dataset, we'll focus on rating numerator here."
   ]
  },
  {
   "cell_type": "code",
   "execution_count": 110,
   "metadata": {},
   "outputs": [
    {
     "data": {
      "text/plain": [
       "12.00    424\n",
       "10.00    361\n",
       "11.00    359\n",
       "13.00    222\n",
       "9.00     133\n",
       "8.00     68 \n",
       "7.00     31 \n",
       "14.00    22 \n",
       "6.00     16 \n",
       "5.00     13 \n",
       "2.00     2  \n",
       "3.00     2  \n",
       "13.50    1  \n",
       "11.26    1  \n",
       "9.75     1  \n",
       "4.00     1  \n",
       "11.27    1  \n",
       "Name: rating_numerator, dtype: int64"
      ]
     },
     "execution_count": 110,
     "metadata": {},
     "output_type": "execute_result"
    }
   ],
   "source": [
    "df.rating_numerator.value_counts()"
   ]
  },
  {
   "cell_type": "code",
   "execution_count": 111,
   "metadata": {},
   "outputs": [
    {
     "data": {
      "text/plain": [
       "count    1658.000000\n",
       "mean     10.868384  \n",
       "std      1.683681   \n",
       "min      2.000000   \n",
       "25%      10.000000  \n",
       "50%      11.000000  \n",
       "75%      12.000000  \n",
       "max      14.000000  \n",
       "Name: rating_numerator, dtype: float64"
      ]
     },
     "execution_count": 111,
     "metadata": {},
     "output_type": "execute_result"
    }
   ],
   "source": [
    "df.rating_numerator.describe()"
   ]
  },
  {
   "cell_type": "code",
   "execution_count": 112,
   "metadata": {},
   "outputs": [
    {
     "data": {
      "image/png": "[encoded data removed]",
      "text/plain": [
       "<Figure size 640x480 with 1 Axes>"
      ]
     },
     "metadata": {},
     "output_type": "display_data"
    }
   ],
   "source": [
    "plt.hist(df.rating_numerator)\n",
    "plt.title('Rating Numerator Histogram')\n",
    "plt.xlabel('Rating_numerator')\n",
    "plt.ylabel('Count');"
   ]
  },
  {
   "cell_type": "markdown",
   "metadata": {},
   "source": [
    "As we can see that the most common ratings are 12 with 424 tweets, 10.00(361 tweets), 11.00(359 tweets), 13(222 tweets), 9.00(133 tweets). The average rating is 10.87."
   ]
  },
  {
   "cell_type": "markdown",
   "metadata": {},
   "source": [
    "# 4. Average ratings for popular dog breeds based on tweet count"
   ]
  },
  {
   "cell_type": "code",
   "execution_count": 113,
   "metadata": {},
   "outputs": [
    {
     "data": {
      "text/html": [
       "<div>\n",
       "<style scoped>\n",
       "    .dataframe tbody tr th:only-of-type {\n",
       "        vertical-align: middle;\n",
       "    }\n",
       "\n",
       "    .dataframe tbody tr th {\n",
       "        vertical-align: top;\n",
       "    }\n",
       "\n",
       "    .dataframe thead th {\n",
       "        text-align: right;\n",
       "    }\n",
       "</style>\n",
       "<table border=\"1\" class=\"dataframe\">\n",
       "  <thead>\n",
       "    <tr style=\"text-align: right;\">\n",
       "      <th></th>\n",
       "      <th>breed</th>\n",
       "      <th>avg_rating</th>\n",
       "    </tr>\n",
       "  </thead>\n",
       "  <tbody>\n",
       "    <tr>\n",
       "      <th>10</th>\n",
       "      <td>Samoyed</td>\n",
       "      <td>11.690476</td>\n",
       "    </tr>\n",
       "    <tr>\n",
       "      <th>11</th>\n",
       "      <td>Golden_retriever</td>\n",
       "      <td>11.612179</td>\n",
       "    </tr>\n",
       "    <tr>\n",
       "      <th>15</th>\n",
       "      <td>Pembroke</td>\n",
       "      <td>11.425532</td>\n",
       "    </tr>\n",
       "    <tr>\n",
       "      <th>16</th>\n",
       "      <td>Chow</td>\n",
       "      <td>11.416667</td>\n",
       "    </tr>\n",
       "    <tr>\n",
       "      <th>28</th>\n",
       "      <td>Labrador_retriever</td>\n",
       "      <td>11.198113</td>\n",
       "    </tr>\n",
       "    <tr>\n",
       "      <th>43</th>\n",
       "      <td>Toy_poodle</td>\n",
       "      <td>11.000000</td>\n",
       "    </tr>\n",
       "    <tr>\n",
       "      <th>47</th>\n",
       "      <td>Pomeranian</td>\n",
       "      <td>10.945122</td>\n",
       "    </tr>\n",
       "    <tr>\n",
       "      <th>51</th>\n",
       "      <td>Malamute</td>\n",
       "      <td>10.878788</td>\n",
       "    </tr>\n",
       "    <tr>\n",
       "      <th>61</th>\n",
       "      <td>Chihuahua</td>\n",
       "      <td>10.693182</td>\n",
       "    </tr>\n",
       "    <tr>\n",
       "      <th>78</th>\n",
       "      <td>Pug</td>\n",
       "      <td>10.241935</td>\n",
       "    </tr>\n",
       "  </tbody>\n",
       "</table>\n",
       "</div>"
      ],
      "text/plain": [
       "                 breed  avg_rating\n",
       "10  Samoyed             11.690476 \n",
       "11  Golden_retriever    11.612179 \n",
       "15  Pembroke            11.425532 \n",
       "16  Chow                11.416667 \n",
       "28  Labrador_retriever  11.198113 \n",
       "43  Toy_poodle          11.000000 \n",
       "47  Pomeranian          10.945122 \n",
       "51  Malamute            10.878788 \n",
       "61  Chihuahua           10.693182 \n",
       "78  Pug                 10.241935 "
      ]
     },
     "execution_count": 113,
     "metadata": {},
     "output_type": "execute_result"
    }
   ],
   "source": [
    "# Make a list of top popular dog breeds based on number of tweets\n",
    "top_tweet_count = df.breed.value_counts().sort_values(ascending=False).nlargest(10).rename_axis('dog_breed').reset_index(name='tweet_counts')\n",
    "breed_list = top_tweet_count.dog_breed.tolist()\n",
    "\n",
    "# Average rating for top breeds based on number of tweets\n",
    "avg_rating = df.groupby('breed').rating_numerator.mean().sort_values(ascending=False).rename_axis('breed').reset_index(name='avg_rating')\n",
    "breed_avg_rating = avg_rating[avg_rating['breed'].isin(breed_list)]\n",
    "\n",
    "breed_avg_rating"
   ]
  },
  {
   "cell_type": "code",
   "execution_count": 114,
   "metadata": {},
   "outputs": [
    {
     "data": {
      "image/png": "[encoded data removed]",
      "text/plain": [
       "<Figure size 640x480 with 1 Axes>"
      ]
     },
     "metadata": {},
     "output_type": "display_data"
    }
   ],
   "source": [
    "# Plot chart\n",
    "breed_avg_rating.plot(kind='bar', x='breed', y='avg_rating')  \n",
    "plt.title('Average ratings for Top 10 Dog Breeds based on Tweet Count')\n",
    "plt.ylabel(\"Average Rating\")\n",
    "plt.xlabel(\"Breed\");"
   ]
  },
  {
   "cell_type": "markdown",
   "metadata": {},
   "source": [
    "# 5. Source"
   ]
  },
  {
   "cell_type": "code",
   "execution_count": 115,
   "metadata": {},
   "outputs": [
    {
     "data": {
      "text/plain": [
       "Twitter for iPhone    1627\n",
       "Twitter Web Client    22  \n",
       "TweetDeck             9   \n",
       "Name: source, dtype: int64"
      ]
     },
     "execution_count": 115,
     "metadata": {},
     "output_type": "execute_result"
    }
   ],
   "source": [
    "df.source.value_counts()\n"
   ]
  },
  {
   "cell_type": "code",
   "execution_count": 116,
   "metadata": {},
   "outputs": [
    {
     "data": {
      "text/plain": [
       "Twitter for iPhone    0.981303\n",
       "Twitter Web Client    0.013269\n",
       "TweetDeck             0.005428\n",
       "Name: source, dtype: float64"
      ]
     },
     "execution_count": 116,
     "metadata": {},
     "output_type": "execute_result"
    }
   ],
   "source": [
    "df.source.value_counts(normalize=True)\n"
   ]
  },
  {
   "cell_type": "markdown",
   "metadata": {},
   "source": [
    "We can see that the majority of users are iphone users(98%).\n",
    "\n"
   ]
  },
  {
   "cell_type": "markdown",
   "metadata": {},
   "source": [
    "# References"
   ]
  },
  {
   "cell_type": "markdown",
   "metadata": {},
   "source": [
    "https://pandas.pydata.org/pandas-docs/stable/reference/api/pandas.melt.html\n",
    "https://pandas.pydata.org/pandas-docs/version/0.23.4/generated/pandas.notnull.html\n",
    "https://stackoverflow.com/questions/45035929/creating-new-pandas-dataframe-from-certain-columns-of-existing-dataframe\n",
    "https://stackoverflow.com/questions/25351968/how-to-display-full-non-truncated-dataframe-information-in-html-when-convertin\n",
    "https://chrisalbon.com/python/data_wrangling/pandas_dropping_column_and_rows/\n",
    "https://stackoverflow.com/questions/43269548/pandas-how-to-remove-rows-from-a-dataframe-based-on-a-list\n",
    "https://stackoverflow.com/questions/39922986/pandas-group-by-and-sum\n",
    "https://www.w3schools.com/tags/ref_colornames.asp\n",
    "https://pandas.pydata.org/pandas-docs/stable/reference/api/pandas.Series.nlargest.html\n",
    "https://stackoverflow.com/questions/52436394/how-to-convert-a-pandas-value-counts-into-a-python-list/52436410\n",
    "https://stackoverflow.com/questions/47136436/python-pandas-convert-value-counts-output-to-dataframe\n",
    "https://stackoverflow.com/questions/48258994/how-to-select-two-columns-to-plot-with-dataframe"
   ]
  }
 ],
 "metadata": {
  "colab": {
   "provenance": []
  },
  "kernelspec": {
   "display_name": "Python 3 (ipykernel)",
   "language": "python",
   "name": "python3"
  },
  "language_info": {
   "codemirror_mode": {
    "name": "ipython",
    "version": 3
   },
   "file_extension": ".py",
   "mimetype": "text/x-python",
   "name": "python",
   "nbconvert_exporter": "python",
   "pygments_lexer": "ipython3",
   "version": "3.10.10"
  }
 },
 "nbformat": 4,
 "nbformat_minor": 1
}
